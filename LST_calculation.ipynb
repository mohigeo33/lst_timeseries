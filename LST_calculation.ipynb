{
  "nbformat": 4,
  "nbformat_minor": 0,
  "metadata": {
    "colab": {
      "provenance": [],
      "authorship_tag": "ABX9TyNXz9MFOM4UGgtyinnFJVHb",
      "include_colab_link": true
    },
    "kernelspec": {
      "name": "python3",
      "display_name": "Python 3"
    },
    "language_info": {
      "name": "python"
    },
    "widgets": {
      "application/vnd.jupyter.widget-state+json": {
        "1d40b81a2d61435dbe5db7082eee90a7": {
          "model_module": "jupyter-leaflet",
          "model_name": "LeafletMapModel",
          "model_module_version": "^0.17",
          "state": {
            "_dom_classes": [],
            "_model_module": "jupyter-leaflet",
            "_model_module_version": "^0.17",
            "_model_name": "LeafletMapModel",
            "_view_count": null,
            "_view_module": "jupyter-leaflet",
            "_view_module_version": "^0.17",
            "_view_name": "LeafletMapView",
            "bottom": 490844,
            "bounce_at_zoom_limits": true,
            "box_zoom": true,
            "center": [
              11.506937629708416,
              104.98769618668832
            ],
            "close_popup_on_click": true,
            "controls": [
              "IPY_MODEL_5feac380e946458f80dbb2bf0c29e7d1",
              "IPY_MODEL_c3b71b82fbd24dfba501291be5e1be22",
              "IPY_MODEL_430fe7424ff64217a0742026babc0980",
              "IPY_MODEL_d7612c878e1f4a7e9d96f507963c34a4",
              "IPY_MODEL_d77e674a2c354202a12175fab4a1b27d",
              "IPY_MODEL_0ba74f5d663c4e7ab1c6bd2007638dda",
              "IPY_MODEL_6a633313a987475a94704030b5f7fd7d",
              "IPY_MODEL_3225b0ff67d3483ba97b58c66be5ca8c"
            ],
            "crs": {
              "name": "EPSG3857",
              "custom": false
            },
            "default_style": "IPY_MODEL_0bb686be75694f09ab8a8214e3940ae8",
            "double_click_zoom": true,
            "dragging": true,
            "dragging_style": "IPY_MODEL_a071a2b37e3b4e2bbc1108f9d4e925f5",
            "east": 105.22979736328125,
            "fullscreen": false,
            "inertia": true,
            "inertia_deceleration": 3000,
            "inertia_max_speed": 1500,
            "interpolation": "bilinear",
            "keyboard": true,
            "keyboard_pan_offset": 80,
            "keyboard_zoom_offset": 1,
            "layers": [
              "IPY_MODEL_398c6ddd4f9a4d98bc38e2d83b21979f",
              "IPY_MODEL_08481eb2d2f74fc7aa2b498eed043e05",
              "IPY_MODEL_777bae5a1aae4ec581a553af71873045"
            ],
            "layout": "IPY_MODEL_aa163b2381794cfeab7d12e1e5208850",
            "left": 829382,
            "max_zoom": 24,
            "min_zoom": null,
            "modisdate": "2023-05-07",
            "north": 11.607848207130703,
            "options": [
              "bounce_at_zoom_limits",
              "box_zoom",
              "center",
              "close_popup_on_click",
              "double_click_zoom",
              "dragging",
              "fullscreen",
              "inertia",
              "inertia_deceleration",
              "inertia_max_speed",
              "interpolation",
              "keyboard",
              "keyboard_pan_offset",
              "keyboard_zoom_offset",
              "max_zoom",
              "min_zoom",
              "prefer_canvas",
              "scroll_wheel_zoom",
              "tap",
              "tap_tolerance",
              "touch_zoom",
              "world_copy_jump",
              "zoom",
              "zoom_animation_threshold",
              "zoom_delta",
              "zoom_snap"
            ],
            "panes": {},
            "prefer_canvas": false,
            "right": 830792,
            "scroll_wheel_zoom": true,
            "south": 11.405995013996774,
            "style": "IPY_MODEL_e64063efc9014077ac4da9b0dbc68868",
            "tap": true,
            "tap_tolerance": 15,
            "top": 490244,
            "touch_zoom": true,
            "west": 104.74571228027345,
            "window_url": "https://dj5ciwv34ya-496ff2e9c6d22116-0-colab.googleusercontent.com/outputframe.html?vrz=colab-20230503-060127-RC00_529051665",
            "world_copy_jump": false,
            "zoom": 12,
            "zoom_animation_threshold": 4,
            "zoom_delta": 1,
            "zoom_snap": 1
          }
        },
        "5feac380e946458f80dbb2bf0c29e7d1": {
          "model_module": "jupyter-leaflet",
          "model_name": "LeafletWidgetControlModel",
          "model_module_version": "^0.17",
          "state": {
            "_model_module": "jupyter-leaflet",
            "_model_module_version": "^0.17",
            "_model_name": "LeafletWidgetControlModel",
            "_view_count": null,
            "_view_module": "jupyter-leaflet",
            "_view_module_version": "^0.17",
            "_view_name": "LeafletWidgetControlView",
            "max_height": null,
            "max_width": null,
            "min_height": null,
            "min_width": null,
            "options": [
              "position",
              "transparent_bg"
            ],
            "position": "topleft",
            "transparent_bg": false,
            "widget": "IPY_MODEL_9b5fb9442783476180c13e9b9bab7b3f"
          }
        },
        "c3b71b82fbd24dfba501291be5e1be22": {
          "model_module": "jupyter-leaflet",
          "model_name": "LeafletZoomControlModel",
          "model_module_version": "^0.17",
          "state": {
            "_model_module": "jupyter-leaflet",
            "_model_module_version": "^0.17",
            "_model_name": "LeafletZoomControlModel",
            "_view_count": null,
            "_view_module": "jupyter-leaflet",
            "_view_module_version": "^0.17",
            "_view_name": "LeafletZoomControlView",
            "options": [
              "position",
              "zoom_in_text",
              "zoom_in_title",
              "zoom_out_text",
              "zoom_out_title"
            ],
            "position": "topleft",
            "zoom_in_text": "+",
            "zoom_in_title": "Zoom in",
            "zoom_out_text": "-",
            "zoom_out_title": "Zoom out"
          }
        },
        "430fe7424ff64217a0742026babc0980": {
          "model_module": "jupyter-leaflet",
          "model_name": "LeafletScaleControlModel",
          "model_module_version": "^0.17",
          "state": {
            "_model_module": "jupyter-leaflet",
            "_model_module_version": "^0.17",
            "_model_name": "LeafletScaleControlModel",
            "_view_count": null,
            "_view_module": "jupyter-leaflet",
            "_view_module_version": "^0.17",
            "_view_name": "LeafletScaleControlView",
            "imperial": true,
            "max_width": 100,
            "metric": true,
            "options": [
              "imperial",
              "max_width",
              "metric",
              "position",
              "update_when_idle"
            ],
            "position": "bottomleft",
            "update_when_idle": false
          }
        },
        "d7612c878e1f4a7e9d96f507963c34a4": {
          "model_module": "jupyter-leaflet",
          "model_name": "LeafletFullScreenControlModel",
          "model_module_version": "^0.17",
          "state": {
            "_model_module": "jupyter-leaflet",
            "_model_module_version": "^0.17",
            "_model_name": "LeafletFullScreenControlModel",
            "_view_count": null,
            "_view_module": "jupyter-leaflet",
            "_view_module_version": "^0.17",
            "_view_name": "LeafletFullScreenControlView",
            "options": [
              "position"
            ],
            "position": "topleft"
          }
        },
        "d77e674a2c354202a12175fab4a1b27d": {
          "model_module": "jupyter-leaflet",
          "model_name": "LeafletMeasureControlModel",
          "model_module_version": "^0.17",
          "state": {
            "_custom_units": {},
            "_model_module": "jupyter-leaflet",
            "_model_module_version": "^0.17",
            "_model_name": "LeafletMeasureControlModel",
            "_view_count": null,
            "_view_module": "jupyter-leaflet",
            "_view_module_version": "^0.17",
            "_view_name": "LeafletMeasureControlView",
            "active_color": "orange",
            "capture_z_index": 10000,
            "completed_color": "#C8F2BE",
            "options": [
              "active_color",
              "capture_z_index",
              "completed_color",
              "popup_options",
              "position",
              "primary_area_unit",
              "primary_length_unit",
              "secondary_area_unit",
              "secondary_length_unit"
            ],
            "popup_options": {
              "className": "leaflet-measure-resultpopup",
              "autoPanPadding": [
                10,
                10
              ]
            },
            "position": "bottomleft",
            "primary_area_unit": "acres",
            "primary_length_unit": "kilometers",
            "secondary_area_unit": null,
            "secondary_length_unit": null
          }
        },
        "0ba74f5d663c4e7ab1c6bd2007638dda": {
          "model_module": "jupyter-leaflet",
          "model_name": "LeafletAttributionControlModel",
          "model_module_version": "^0.17",
          "state": {
            "_model_module": "jupyter-leaflet",
            "_model_module_version": "^0.17",
            "_model_name": "LeafletAttributionControlModel",
            "_view_count": null,
            "_view_module": "jupyter-leaflet",
            "_view_module_version": "^0.17",
            "_view_name": "LeafletAttributionControlView",
            "options": [
              "position",
              "prefix"
            ],
            "position": "bottomright",
            "prefix": "ipyleaflet"
          }
        },
        "6a633313a987475a94704030b5f7fd7d": {
          "model_module": "jupyter-leaflet",
          "model_name": "LeafletDrawControlModel",
          "model_module_version": "^0.17",
          "state": {
            "_model_module": "jupyter-leaflet",
            "_model_module_version": "^0.17",
            "_model_name": "LeafletDrawControlModel",
            "_view_count": null,
            "_view_module": "jupyter-leaflet",
            "_view_module_version": "^0.17",
            "_view_name": "LeafletDrawControlView",
            "circle": {
              "shapeOptions": {
                "color": "#3388ff"
              }
            },
            "circlemarker": {},
            "data": [],
            "edit": true,
            "marker": {
              "shapeOptions": {
                "color": "#3388ff"
              }
            },
            "options": [
              "position"
            ],
            "polygon": {
              "shapeOptions": {}
            },
            "polyline": {
              "shapeOptions": {}
            },
            "position": "topleft",
            "rectangle": {
              "shapeOptions": {
                "color": "#3388ff"
              }
            },
            "remove": true
          }
        },
        "3225b0ff67d3483ba97b58c66be5ca8c": {
          "model_module": "jupyter-leaflet",
          "model_name": "LeafletWidgetControlModel",
          "model_module_version": "^0.17",
          "state": {
            "_model_module": "jupyter-leaflet",
            "_model_module_version": "^0.17",
            "_model_name": "LeafletWidgetControlModel",
            "_view_count": null,
            "_view_module": "jupyter-leaflet",
            "_view_module_version": "^0.17",
            "_view_name": "LeafletWidgetControlView",
            "max_height": null,
            "max_width": null,
            "min_height": null,
            "min_width": null,
            "options": [
              "position",
              "transparent_bg"
            ],
            "position": "topright",
            "transparent_bg": false,
            "widget": "IPY_MODEL_130cfacd3fd841939b321541fafd31ca"
          }
        },
        "0bb686be75694f09ab8a8214e3940ae8": {
          "model_module": "jupyter-leaflet",
          "model_name": "LeafletMapStyleModel",
          "model_module_version": "^0.17",
          "state": {
            "_model_module": "jupyter-leaflet",
            "_model_module_version": "^0.17",
            "_model_name": "LeafletMapStyleModel",
            "_view_count": null,
            "_view_module": "@jupyter-widgets/base",
            "_view_module_version": "1.2.0",
            "_view_name": "StyleView",
            "cursor": "grab"
          }
        },
        "a071a2b37e3b4e2bbc1108f9d4e925f5": {
          "model_module": "jupyter-leaflet",
          "model_name": "LeafletMapStyleModel",
          "model_module_version": "^0.17",
          "state": {
            "_model_module": "jupyter-leaflet",
            "_model_module_version": "^0.17",
            "_model_name": "LeafletMapStyleModel",
            "_view_count": null,
            "_view_module": "@jupyter-widgets/base",
            "_view_module_version": "1.2.0",
            "_view_name": "StyleView",
            "cursor": "move"
          }
        },
        "398c6ddd4f9a4d98bc38e2d83b21979f": {
          "model_module": "jupyter-leaflet",
          "model_name": "LeafletTileLayerModel",
          "model_module_version": "^0.17",
          "state": {
            "_model_module": "jupyter-leaflet",
            "_model_module_version": "^0.17",
            "_model_name": "LeafletTileLayerModel",
            "_view_count": null,
            "_view_module": "jupyter-leaflet",
            "_view_module_version": "^0.17",
            "_view_name": "LeafletTileLayerView",
            "attribution": "&copy; <a href=\"https://www.openstreetmap.org/copyright\">OpenStreetMap</a> contributors",
            "base": true,
            "bottom": true,
            "bounds": null,
            "detect_retina": false,
            "loading": false,
            "max_native_zoom": null,
            "max_zoom": 19,
            "min_native_zoom": null,
            "min_zoom": 1,
            "name": "OpenStreetMap.Mapnik",
            "no_wrap": false,
            "opacity": 1,
            "options": [
              "attribution",
              "bounds",
              "detect_retina",
              "max_native_zoom",
              "max_zoom",
              "min_native_zoom",
              "min_zoom",
              "no_wrap",
              "tile_size",
              "tms",
              "zoom_offset"
            ],
            "pane": "",
            "popup": null,
            "popup_max_height": null,
            "popup_max_width": 300,
            "popup_min_width": 50,
            "show_loading": false,
            "subitems": [],
            "tile_size": 256,
            "tms": false,
            "url": "https://tile.openstreetmap.org/{z}/{x}/{y}.png",
            "visible": true,
            "zoom_offset": 0
          }
        },
        "08481eb2d2f74fc7aa2b498eed043e05": {
          "model_module": "jupyter-leaflet",
          "model_name": "LeafletTileLayerModel",
          "model_module_version": "^0.17",
          "state": {
            "_model_module": "jupyter-leaflet",
            "_model_module_version": "^0.17",
            "_model_name": "LeafletTileLayerModel",
            "_view_count": null,
            "_view_module": "jupyter-leaflet",
            "_view_module_version": "^0.17",
            "_view_name": "LeafletTileLayerView",
            "attribution": "Google",
            "base": false,
            "bottom": true,
            "bounds": null,
            "detect_retina": false,
            "loading": false,
            "max_native_zoom": null,
            "max_zoom": 22,
            "min_native_zoom": null,
            "min_zoom": 0,
            "name": "Google Maps",
            "no_wrap": false,
            "opacity": 1,
            "options": [
              "attribution",
              "bounds",
              "detect_retina",
              "max_native_zoom",
              "max_zoom",
              "min_native_zoom",
              "min_zoom",
              "no_wrap",
              "tile_size",
              "tms",
              "zoom_offset"
            ],
            "pane": "",
            "popup": null,
            "popup_max_height": null,
            "popup_max_width": 300,
            "popup_min_width": 50,
            "show_loading": false,
            "subitems": [],
            "tile_size": 256,
            "tms": false,
            "url": "https://mt1.google.com/vt/lyrs=m&x={x}&y={y}&z={z}",
            "visible": true,
            "zoom_offset": 0
          }
        },
        "777bae5a1aae4ec581a553af71873045": {
          "model_module": "jupyter-leaflet",
          "model_name": "LeafletTileLayerModel",
          "model_module_version": "^0.17",
          "state": {
            "_model_module": "jupyter-leaflet",
            "_model_module_version": "^0.17",
            "_model_name": "LeafletTileLayerModel",
            "_view_count": null,
            "_view_module": "jupyter-leaflet",
            "_view_module_version": "^0.17",
            "_view_name": "LeafletTileLayerView",
            "attribution": "Google Earth Engine",
            "base": false,
            "bottom": true,
            "bounds": null,
            "detect_retina": false,
            "loading": false,
            "max_native_zoom": null,
            "max_zoom": 24,
            "min_native_zoom": null,
            "min_zoom": 0,
            "name": "AOI",
            "no_wrap": false,
            "opacity": 1,
            "options": [
              "attribution",
              "bounds",
              "detect_retina",
              "max_native_zoom",
              "max_zoom",
              "min_native_zoom",
              "min_zoom",
              "no_wrap",
              "tile_size",
              "tms",
              "zoom_offset"
            ],
            "pane": "",
            "popup": null,
            "popup_max_height": null,
            "popup_max_width": 300,
            "popup_min_width": 50,
            "show_loading": false,
            "subitems": [],
            "tile_size": 256,
            "tms": false,
            "url": "https://earthengine.googleapis.com/v1alpha/projects/earthengine-legacy/maps/a56823d2745d8cf9d379675218573f9d-b37fb62530ca99446af4eed0c06a4ec5/tiles/{z}/{x}/{y}",
            "visible": true,
            "zoom_offset": 0
          }
        },
        "aa163b2381794cfeab7d12e1e5208850": {
          "model_module": "@jupyter-widgets/base",
          "model_name": "LayoutModel",
          "model_module_version": "1.2.0",
          "state": {
            "_model_module": "@jupyter-widgets/base",
            "_model_module_version": "1.2.0",
            "_model_name": "LayoutModel",
            "_view_count": null,
            "_view_module": "@jupyter-widgets/base",
            "_view_module_version": "1.2.0",
            "_view_name": "LayoutView",
            "align_content": null,
            "align_items": null,
            "align_self": null,
            "border": null,
            "bottom": null,
            "display": null,
            "flex": null,
            "flex_flow": null,
            "grid_area": null,
            "grid_auto_columns": null,
            "grid_auto_flow": null,
            "grid_auto_rows": null,
            "grid_column": null,
            "grid_gap": null,
            "grid_row": null,
            "grid_template_areas": null,
            "grid_template_columns": null,
            "grid_template_rows": null,
            "height": "600px",
            "justify_content": null,
            "justify_items": null,
            "left": null,
            "margin": null,
            "max_height": null,
            "max_width": null,
            "min_height": null,
            "min_width": null,
            "object_fit": null,
            "object_position": null,
            "order": null,
            "overflow": null,
            "overflow_x": null,
            "overflow_y": null,
            "padding": null,
            "right": null,
            "top": null,
            "visibility": null,
            "width": null
          }
        },
        "e64063efc9014077ac4da9b0dbc68868": {
          "model_module": "jupyter-leaflet",
          "model_name": "LeafletMapStyleModel",
          "model_module_version": "^0.17",
          "state": {
            "_model_module": "jupyter-leaflet",
            "_model_module_version": "^0.17",
            "_model_name": "LeafletMapStyleModel",
            "_view_count": null,
            "_view_module": "@jupyter-widgets/base",
            "_view_module_version": "1.2.0",
            "_view_name": "StyleView",
            "cursor": "grab"
          }
        },
        "9b5fb9442783476180c13e9b9bab7b3f": {
          "model_module": "@jupyter-widgets/controls",
          "model_name": "HBoxModel",
          "model_module_version": "1.5.0",
          "state": {
            "_dom_classes": [],
            "_model_module": "@jupyter-widgets/controls",
            "_model_module_version": "1.5.0",
            "_model_name": "HBoxModel",
            "_view_count": null,
            "_view_module": "@jupyter-widgets/controls",
            "_view_module_version": "1.5.0",
            "_view_name": "HBoxView",
            "box_style": "",
            "children": [
              "IPY_MODEL_c7fcadbbb66d45c1988e19fa931f03ef"
            ],
            "layout": "IPY_MODEL_832c41d337c249e3ba095a1245cecdfc"
          }
        },
        "130cfacd3fd841939b321541fafd31ca": {
          "model_module": "@jupyter-widgets/controls",
          "model_name": "VBoxModel",
          "model_module_version": "1.5.0",
          "state": {
            "_dom_classes": [],
            "_model_module": "@jupyter-widgets/controls",
            "_model_module_version": "1.5.0",
            "_model_name": "VBoxModel",
            "_view_count": null,
            "_view_module": "@jupyter-widgets/controls",
            "_view_module_version": "1.5.0",
            "_view_name": "VBoxView",
            "box_style": "",
            "children": [
              "IPY_MODEL_27647722010b4b808d5c68b9765bbb9e"
            ],
            "layout": "IPY_MODEL_c5a852d5fd1f4da4be7b9a836f06a9f5"
          }
        },
        "c7fcadbbb66d45c1988e19fa931f03ef": {
          "model_module": "@jupyter-widgets/controls",
          "model_name": "ToggleButtonModel",
          "model_module_version": "1.5.0",
          "state": {
            "_dom_classes": [],
            "_model_module": "@jupyter-widgets/controls",
            "_model_module_version": "1.5.0",
            "_model_name": "ToggleButtonModel",
            "_view_count": null,
            "_view_module": "@jupyter-widgets/controls",
            "_view_module_version": "1.5.0",
            "_view_name": "ToggleButtonView",
            "button_style": "",
            "description": "",
            "description_tooltip": null,
            "disabled": false,
            "icon": "globe",
            "layout": "IPY_MODEL_ea1755c9ed784248a4d5c23048895df3",
            "style": "IPY_MODEL_ec63dd8939774715afefac38227d4c91",
            "tooltip": "Search location/data",
            "value": false
          }
        },
        "832c41d337c249e3ba095a1245cecdfc": {
          "model_module": "@jupyter-widgets/base",
          "model_name": "LayoutModel",
          "model_module_version": "1.2.0",
          "state": {
            "_model_module": "@jupyter-widgets/base",
            "_model_module_version": "1.2.0",
            "_model_name": "LayoutModel",
            "_view_count": null,
            "_view_module": "@jupyter-widgets/base",
            "_view_module_version": "1.2.0",
            "_view_name": "LayoutView",
            "align_content": null,
            "align_items": null,
            "align_self": null,
            "border": null,
            "bottom": null,
            "display": null,
            "flex": null,
            "flex_flow": null,
            "grid_area": null,
            "grid_auto_columns": null,
            "grid_auto_flow": null,
            "grid_auto_rows": null,
            "grid_column": null,
            "grid_gap": null,
            "grid_row": null,
            "grid_template_areas": null,
            "grid_template_columns": null,
            "grid_template_rows": null,
            "height": null,
            "justify_content": null,
            "justify_items": null,
            "left": null,
            "margin": null,
            "max_height": null,
            "max_width": null,
            "min_height": null,
            "min_width": null,
            "object_fit": null,
            "object_position": null,
            "order": null,
            "overflow": null,
            "overflow_x": null,
            "overflow_y": null,
            "padding": null,
            "right": null,
            "top": null,
            "visibility": null,
            "width": null
          }
        },
        "27647722010b4b808d5c68b9765bbb9e": {
          "model_module": "@jupyter-widgets/controls",
          "model_name": "ToggleButtonModel",
          "model_module_version": "1.5.0",
          "state": {
            "_dom_classes": [],
            "_model_module": "@jupyter-widgets/controls",
            "_model_module_version": "1.5.0",
            "_model_name": "ToggleButtonModel",
            "_view_count": null,
            "_view_module": "@jupyter-widgets/controls",
            "_view_module_version": "1.5.0",
            "_view_name": "ToggleButtonView",
            "button_style": "",
            "description": "",
            "description_tooltip": null,
            "disabled": false,
            "icon": "wrench",
            "layout": "IPY_MODEL_ea7788812e03418c8a8c3a9b81666ac7",
            "style": "IPY_MODEL_68b0a3021eb342c7bd1f19dc6fb114d8",
            "tooltip": "Toolbar",
            "value": false
          }
        },
        "c5a852d5fd1f4da4be7b9a836f06a9f5": {
          "model_module": "@jupyter-widgets/base",
          "model_name": "LayoutModel",
          "model_module_version": "1.2.0",
          "state": {
            "_model_module": "@jupyter-widgets/base",
            "_model_module_version": "1.2.0",
            "_model_name": "LayoutModel",
            "_view_count": null,
            "_view_module": "@jupyter-widgets/base",
            "_view_module_version": "1.2.0",
            "_view_name": "LayoutView",
            "align_content": null,
            "align_items": null,
            "align_self": null,
            "border": null,
            "bottom": null,
            "display": null,
            "flex": null,
            "flex_flow": null,
            "grid_area": null,
            "grid_auto_columns": null,
            "grid_auto_flow": null,
            "grid_auto_rows": null,
            "grid_column": null,
            "grid_gap": null,
            "grid_row": null,
            "grid_template_areas": null,
            "grid_template_columns": null,
            "grid_template_rows": null,
            "height": null,
            "justify_content": null,
            "justify_items": null,
            "left": null,
            "margin": null,
            "max_height": null,
            "max_width": null,
            "min_height": null,
            "min_width": null,
            "object_fit": null,
            "object_position": null,
            "order": null,
            "overflow": null,
            "overflow_x": null,
            "overflow_y": null,
            "padding": null,
            "right": null,
            "top": null,
            "visibility": null,
            "width": null
          }
        },
        "ea1755c9ed784248a4d5c23048895df3": {
          "model_module": "@jupyter-widgets/base",
          "model_name": "LayoutModel",
          "model_module_version": "1.2.0",
          "state": {
            "_model_module": "@jupyter-widgets/base",
            "_model_module_version": "1.2.0",
            "_model_name": "LayoutModel",
            "_view_count": null,
            "_view_module": "@jupyter-widgets/base",
            "_view_module_version": "1.2.0",
            "_view_name": "LayoutView",
            "align_content": null,
            "align_items": null,
            "align_self": null,
            "border": null,
            "bottom": null,
            "display": null,
            "flex": null,
            "flex_flow": null,
            "grid_area": null,
            "grid_auto_columns": null,
            "grid_auto_flow": null,
            "grid_auto_rows": null,
            "grid_column": null,
            "grid_gap": null,
            "grid_row": null,
            "grid_template_areas": null,
            "grid_template_columns": null,
            "grid_template_rows": null,
            "height": "28px",
            "justify_content": null,
            "justify_items": null,
            "left": null,
            "margin": null,
            "max_height": null,
            "max_width": null,
            "min_height": null,
            "min_width": null,
            "object_fit": null,
            "object_position": null,
            "order": null,
            "overflow": null,
            "overflow_x": null,
            "overflow_y": null,
            "padding": "0px 0px 0px 4px",
            "right": null,
            "top": null,
            "visibility": null,
            "width": "28px"
          }
        },
        "ec63dd8939774715afefac38227d4c91": {
          "model_module": "@jupyter-widgets/controls",
          "model_name": "DescriptionStyleModel",
          "model_module_version": "1.5.0",
          "state": {
            "_model_module": "@jupyter-widgets/controls",
            "_model_module_version": "1.5.0",
            "_model_name": "DescriptionStyleModel",
            "_view_count": null,
            "_view_module": "@jupyter-widgets/base",
            "_view_module_version": "1.2.0",
            "_view_name": "StyleView",
            "description_width": ""
          }
        },
        "ea7788812e03418c8a8c3a9b81666ac7": {
          "model_module": "@jupyter-widgets/base",
          "model_name": "LayoutModel",
          "model_module_version": "1.2.0",
          "state": {
            "_model_module": "@jupyter-widgets/base",
            "_model_module_version": "1.2.0",
            "_model_name": "LayoutModel",
            "_view_count": null,
            "_view_module": "@jupyter-widgets/base",
            "_view_module_version": "1.2.0",
            "_view_name": "LayoutView",
            "align_content": null,
            "align_items": null,
            "align_self": null,
            "border": null,
            "bottom": null,
            "display": null,
            "flex": null,
            "flex_flow": null,
            "grid_area": null,
            "grid_auto_columns": null,
            "grid_auto_flow": null,
            "grid_auto_rows": null,
            "grid_column": null,
            "grid_gap": null,
            "grid_row": null,
            "grid_template_areas": null,
            "grid_template_columns": null,
            "grid_template_rows": null,
            "height": "28px",
            "justify_content": null,
            "justify_items": null,
            "left": null,
            "margin": null,
            "max_height": null,
            "max_width": null,
            "min_height": null,
            "min_width": null,
            "object_fit": null,
            "object_position": null,
            "order": null,
            "overflow": null,
            "overflow_x": null,
            "overflow_y": null,
            "padding": "0px 0px 0px 4px",
            "right": null,
            "top": null,
            "visibility": null,
            "width": "28px"
          }
        },
        "68b0a3021eb342c7bd1f19dc6fb114d8": {
          "model_module": "@jupyter-widgets/controls",
          "model_name": "DescriptionStyleModel",
          "model_module_version": "1.5.0",
          "state": {
            "_model_module": "@jupyter-widgets/controls",
            "_model_module_version": "1.5.0",
            "_model_name": "DescriptionStyleModel",
            "_view_count": null,
            "_view_module": "@jupyter-widgets/base",
            "_view_module_version": "1.2.0",
            "_view_name": "StyleView",
            "description_width": ""
          }
        }
      }
    }
  },
  "cells": [
    {
      "cell_type": "markdown",
      "metadata": {
        "id": "view-in-github",
        "colab_type": "text"
      },
      "source": [
        "<a href=\"https://colab.research.google.com/github/mohigeo33/lst_timeseries/blob/main/LST_calculation.ipynb\" target=\"_parent\"><img src=\"https://colab.research.google.com/assets/colab-badge.svg\" alt=\"Open In Colab\"/></a>"
      ]
    },
    {
      "cell_type": "markdown",
      "source": [
        "**1. Installing and loading required libraries**\n",
        "\n"
      ],
      "metadata": {
        "id": "qi3cWaApBaLq"
      }
    },
    {
      "cell_type": "code",
      "source": [
        "# installing libraries\n",
        "!pip install geemap --upgrade\n",
        "!pip install geopandas\n",
        "!pip install pyshp\n",
        "!pip install pycrs"
      ],
      "metadata": {
        "id": "S9Eq9yEABtPA"
      },
      "execution_count": null,
      "outputs": []
    },
    {
      "cell_type": "code",
      "source": [
        "# loading necessary libraries\n",
        "import os\n",
        "import sys\n",
        "import ee\n",
        "import geemap\n",
        "import geopandas as gpd\n",
        "import pandas as pd\n",
        "from tqdm import tqdm\n",
        "import math"
      ],
      "metadata": {
        "id": "4XTLSKFKCCNy"
      },
      "execution_count": 2,
      "outputs": []
    },
    {
      "cell_type": "markdown",
      "source": [
        "**2. Initiating Google Earth Engine (GEE)**\n",
        "\n"
      ],
      "metadata": {
        "id": "tqVpKHfpDtXn"
      }
    },
    {
      "cell_type": "code",
      "source": [
        "# trigger the authentication flow.\n",
        "ee.Authenticate()"
      ],
      "metadata": {
        "colab": {
          "base_uri": "https://localhost:8080/"
        },
        "id": "WBSEeFTFECfs",
        "outputId": "7dcbc0b0-c573-47d8-f566-0bc867c2d743"
      },
      "execution_count": 3,
      "outputs": [
        {
          "output_type": "stream",
          "name": "stdout",
          "text": [
            "To authorize access needed by Earth Engine, open the following URL in a web browser and follow the instructions. If the web browser does not start automatically, please manually browse the URL below.\n",
            "\n",
            "    https://code.earthengine.google.com/client-auth?scopes=https%3A//www.googleapis.com/auth/earthengine%20https%3A//www.googleapis.com/auth/devstorage.full_control&request_id=WaaOmPBFG2pjwZsSn8xiRqRYGASfvJbwFi2wj71GG3A&tc=oEswvpTSnlxS5jz48TfzvMN53wDGw2iOu8qIjlbQ9rw&cc=OnvCCXcypSMNut8ahgOPtt5OvhdF0QUdcgVj-Nas07M\n",
            "\n",
            "The authorization workflow will generate a code, which you should paste in the box below.\n",
            "Enter verification code: 4/1AbUR2VNhKxSE3OkvbQzZbETuTV-gYYtNoazhE75-gKkA8jv-94zfzLwsMZA\n",
            "\n",
            "Successfully saved authorization token.\n"
          ]
        }
      ]
    },
    {
      "cell_type": "code",
      "source": [
        "# initialize the GEE.\n",
        "ee.Initialize()"
      ],
      "metadata": {
        "id": "EQOuLFHGENiX"
      },
      "execution_count": 4,
      "outputs": []
    },
    {
      "cell_type": "markdown",
      "source": [
        "**3. User inputs**"
      ],
      "metadata": {
        "id": "oCkDypJH63PC"
      }
    },
    {
      "cell_type": "code",
      "source": [
        "# study period\n",
        "year_start = 2000\n",
        "year_end = 2021\n",
        "month_start = 1\n",
        "month_end = 12\n",
        "\n",
        "# temperature threshold\n",
        "t_threshold = 20\n",
        "\n",
        "# cloud filter\n",
        "max_cloud_cover = 60 # in percentage"
      ],
      "metadata": {
        "id": "QFhsL4PMEkeg"
      },
      "execution_count": 5,
      "outputs": []
    },
    {
      "cell_type": "markdown",
      "source": [
        "**4. Importing the study area**"
      ],
      "metadata": {
        "id": "97ud7hmYDF2v"
      }
    },
    {
      "cell_type": "code",
      "source": [
        "# mounting the google dirive\n",
        "from google.colab import drive\n",
        "drive.mount('/content/drive')"
      ],
      "metadata": {
        "colab": {
          "base_uri": "https://localhost:8080/"
        },
        "id": "-x8q1n3uCIUf",
        "outputId": "cb8f8e77-5194-4dd8-c80a-5ccb16764068"
      },
      "execution_count": 6,
      "outputs": [
        {
          "output_type": "stream",
          "name": "stdout",
          "text": [
            "Mounted at /content/drive\n"
          ]
        }
      ]
    },
    {
      "cell_type": "code",
      "source": [
        "# setting the working directory\n",
        "os.chdir('/content/drive/MyDrive/Thesis/Data/AOI')\n",
        "print(\"Current working directory: {0}\".format(os.getcwd()))"
      ],
      "metadata": {
        "colab": {
          "base_uri": "https://localhost:8080/"
        },
        "id": "P4jLhjg8DWw_",
        "outputId": "1416532c-24df-480d-8c6b-7b4ad802063f"
      },
      "execution_count": 7,
      "outputs": [
        {
          "output_type": "stream",
          "name": "stdout",
          "text": [
            "Current working directory: /content/drive/MyDrive/Thesis/Data/AOI\n"
          ]
        }
      ]
    },
    {
      "cell_type": "code",
      "source": [
        "# AOI\n",
        "aoi =  '/content/drive/MyDrive/Thesis/Data/AOI/aoi3.shp' # insert input here\n",
        "roi = geemap.shp_to_ee(aoi)\n",
        "\n",
        "#ploting the study area\n",
        "Map = geemap.Map()\n",
        "Map.addLayer(roi, {}, 'AOI')\n",
        "Map.centerObject(roi, zoom=12)\n",
        "Map"
      ],
      "metadata": {
        "id": "3VF2SnkNFUZe",
        "colab": {
          "base_uri": "https://localhost:8080/",
          "height": 621,
          "referenced_widgets": [
            "1d40b81a2d61435dbe5db7082eee90a7",
            "5feac380e946458f80dbb2bf0c29e7d1",
            "c3b71b82fbd24dfba501291be5e1be22",
            "430fe7424ff64217a0742026babc0980",
            "d7612c878e1f4a7e9d96f507963c34a4",
            "d77e674a2c354202a12175fab4a1b27d",
            "0ba74f5d663c4e7ab1c6bd2007638dda",
            "6a633313a987475a94704030b5f7fd7d",
            "3225b0ff67d3483ba97b58c66be5ca8c",
            "0bb686be75694f09ab8a8214e3940ae8",
            "a071a2b37e3b4e2bbc1108f9d4e925f5",
            "398c6ddd4f9a4d98bc38e2d83b21979f",
            "08481eb2d2f74fc7aa2b498eed043e05",
            "777bae5a1aae4ec581a553af71873045",
            "aa163b2381794cfeab7d12e1e5208850",
            "e64063efc9014077ac4da9b0dbc68868",
            "9b5fb9442783476180c13e9b9bab7b3f",
            "130cfacd3fd841939b321541fafd31ca",
            "c7fcadbbb66d45c1988e19fa931f03ef",
            "832c41d337c249e3ba095a1245cecdfc",
            "27647722010b4b808d5c68b9765bbb9e",
            "c5a852d5fd1f4da4be7b9a836f06a9f5",
            "ea1755c9ed784248a4d5c23048895df3",
            "ec63dd8939774715afefac38227d4c91",
            "ea7788812e03418c8a8c3a9b81666ac7",
            "68b0a3021eb342c7bd1f19dc6fb114d8"
          ]
        },
        "outputId": "8863c93f-95ae-4aa3-edd8-0681d5eeb84c"
      },
      "execution_count": 24,
      "outputs": [
        {
          "output_type": "display_data",
          "data": {
            "text/plain": [
              "Map(center=[11.506937629708416, 104.98769618668832], controls=(WidgetControl(options=['position', 'transparent…"
            ],
            "application/vnd.jupyter.widget-view+json": {
              "version_major": 2,
              "version_minor": 0,
              "model_id": "1d40b81a2d61435dbe5db7082eee90a7"
            }
          },
          "metadata": {
            "application/vnd.jupyter.widget-view+json": {
              "colab": {
                "custom_widget_manager": {
                  "url": "https://ssl.gstatic.com/colaboratory-static/widgets/colab-cdn-widget-manager/b3e629b1971e1542/manager.min.js"
                }
              }
            }
          }
        }
      ]
    },
    {
      "cell_type": "markdown",
      "source": [
        "***Most part of the code section in calculating of LST was used from the work of (Nill et. al., 2019). However, the spectral indices, descriptive statistics extraction and downloading result code is compiled by the author***"
      ],
      "metadata": {
        "id": "iafi0smj65VV"
      }
    },
    {
      "cell_type": "markdown",
      "source": [
        "**5. Algorithm Specifications**"
      ],
      "metadata": {
        "id": "QfdbkAkE9BgO"
      }
    },
    {
      "cell_type": "code",
      "source": [
        "ndvi_v = 0.86\n",
        "ndvi_s = -0.64\n",
        "\n",
        "# emissivity value (Li et al., 2013)\n",
        "epsilon_v = 0.985\n",
        "epsilon_s = 0.97\n",
        "epsilon_w = 0.99\n",
        "\n",
        "# coefficients for atmospheric functions (Jiménez‐Muñoz et al. (2008) & Jiménez‐Muñoz et al. (2014))\n",
        "cs_l8 = [0.04019, 0.02916, 1.01523,\n",
        "         -0.38333, -1.50294, 0.20324,\n",
        "         0.00918, 1.36072, -0.27514]\n",
        "cs_l7 = [0.06518, 0.00683, 1.02717,\n",
        "         -0.53003, -1.25866, 0.10490,\n",
        "         -0.01965, 1.36947, -0.24310]\n",
        "cs_l5 = [0.07518, -0.00492, 1.03189,\n",
        "         -0.59600, -1.22554, 0.08104,\n",
        "         -0.02767, 1.43740, -0.25844]"
      ],
      "metadata": {
        "id": "92wcMrd59G07"
      },
      "execution_count": 9,
      "outputs": []
    },
    {
      "cell_type": "markdown",
      "source": [
        "**6. Functions**"
      ],
      "metadata": {
        "id": "fVeHfO1zHn8w"
      }
    },
    {
      "cell_type": "markdown",
      "source": [
        "6.1 Rename bands and clipping"
      ],
      "metadata": {
        "id": "VW5_DR-Qr7k9"
      }
    },
    {
      "cell_type": "code",
      "source": [
        "# cloud masking for Surface Reflectance Products (Nill et. al., 2019)\n",
        "def fun_bands_l57(img):\n",
        "       bands = ['B1', 'B2', 'B3', 'B4', 'B5', 'B7']\n",
        "       thermal_band = ['B6']\n",
        "       new_bands = ['B', 'G', 'R', 'NIR', 'SWIR1', 'SWIR2']\n",
        "       new_thermal_bands = ['TIR']\n",
        "       vnirswir = img.select(bands).multiply(0.0001).rename(new_bands)\n",
        "       tir = img.select(thermal_band).multiply(0.1).rename(new_thermal_bands)\n",
        "       return vnirswir.addBands(tir).copyProperties(img, ['system:time_start'])\n",
        "\n",
        "\n",
        "def fun_bands_l8(img):\n",
        "       bands = ['B2', 'B3', 'B4', 'B5', 'B6', 'B7']\n",
        "       thermal_band = ['B10']\n",
        "       new_bands = ['B', 'G', 'R', 'NIR', 'SWIR1', 'SWIR2']\n",
        "       new_thermal_bands = ['TIR']\n",
        "       vnirswir = img.select(bands).multiply(0.0001).rename(new_bands)\n",
        "       tir = img.select(thermal_band).multiply(0.1).rename(new_thermal_bands)\n",
        "       return vnirswir.addBands(tir).copyProperties(img, ['system:time_start'])\n",
        "\n",
        "#clipping\n",
        "def fun_clip(img):\n",
        "  clip_img = img.clip(roi)\n",
        "  return clip_img"
      ],
      "metadata": {
        "id": "PRmF6A7iGGmt"
      },
      "execution_count": 10,
      "outputs": []
    },
    {
      "cell_type": "markdown",
      "source": [
        "6.2 Masking"
      ],
      "metadata": {
        "id": "6VzRYywC-VeR"
      }
    },
    {
      "cell_type": "code",
      "source": [
        "# Function to cloud mask Landsat TM, ETM+, OLI_TIRS Surface Reflectance Products (Foga et al., 2017)\n",
        "def fun_mask_ls_sr(img):\n",
        "       cloudShadowBitMask = ee.Number(2).pow(3).int()\n",
        "       cloudsBitMask = ee.Number(2).pow(5).int()\n",
        "       snowBitMask = ee.Number(2).pow(4).int()\n",
        "       qa = img.select('pixel_qa')\n",
        "       mask = qa.bitwiseAnd(cloudShadowBitMask).eq(0).And(\n",
        "              qa.bitwiseAnd(cloudsBitMask).eq(0)).And(\n",
        "              qa.bitwiseAnd(snowBitMask).eq(0))\n",
        "       return img.updateMask(mask)\n",
        "\n",
        "\n",
        "# Function to mask LST below certain temperature threshold\n",
        "def fun_mask_T(img):\n",
        "    mask = img.select('LST').gt(t_threshold)\n",
        "    return img.updateMask(mask)"
      ],
      "metadata": {
        "id": "AR-rVDbr-UiJ"
      },
      "execution_count": 11,
      "outputs": []
    },
    {
      "cell_type": "markdown",
      "source": [
        "6.3 Matching and calibration"
      ],
      "metadata": {
        "id": "TV8xQF9s-jLU"
      }
    },
    {
      "cell_type": "code",
      "source": [
        "# Radiometric Calibration\n",
        "def fun_radcal(img):\n",
        "    radiance = ee.Algorithms.Landsat.calibratedRadiance(img).rename('RADIANCE')\n",
        "    return img.addBands(radiance)\n",
        "\n",
        "\n",
        "# L to ee.Image\n",
        "def fun_l_addband(img):\n",
        "    l = ee.Image(img.get('L')).select('RADIANCE').rename('L')\n",
        "    return img.addBands(l)\n",
        "\n",
        "\n",
        "# Create maxDifference-filter to match TOA and SR products\n",
        "maxDiffFilter = ee.Filter.maxDifference(\n",
        "    difference=2 * 24 * 60 * 60 * 1000,\n",
        "    leftField= 'system:time_start',\n",
        "    rightField= 'system:time_start'\n",
        ")\n",
        "\n",
        "# Define join: Water vapor\n",
        "join_wv = ee.Join.saveBest(\n",
        "    matchKey = 'WV',\n",
        "    measureKey = 'timeDiff'\n",
        ")\n",
        "\n",
        "# Define join: Radiance\n",
        "join_l = ee.Join.saveBest(\n",
        "    matchKey = 'L',\n",
        "    measureKey = 'timeDiff'\n",
        ")"
      ],
      "metadata": {
        "id": "MEFe1pUs-hjc"
      },
      "execution_count": 12,
      "outputs": []
    },
    {
      "cell_type": "markdown",
      "source": [
        "6.4 Spectral Indices"
      ],
      "metadata": {
        "id": "lEyVmLfM-rWc"
      }
    },
    {
      "cell_type": "code",
      "source": [
        "# NDVI (Rouse et al., 1973)\n",
        "def fun_ndvi(img):\n",
        "    ndvi = img.normalizedDifference(['NIR', 'R']).rename('NDVI')\n",
        "    return img.addBands(ndvi)\n",
        "\n",
        "#MNDWI (Xu, 2006)\n",
        "def fun_mndwi(img):\n",
        "    mndwi = img.normalizedDifference(['G', 'SWIR1']).rename('MNDWI')\n",
        "    return img.addBands(mndwi)\n",
        "\n",
        "# IBI (Xu, 2008)\n",
        "def fun_ibi(img):\n",
        "    const = ee.Number(2)\n",
        "    \n",
        "    ibi = img.expression(\n",
        "        '(((const * swir1) / (swir1 + nir))-((nir / (nir + red)) + (green / (green + swir1))))   / (((const * swir1) / (swir1 + nir))+((nir / (nir + red)) + (green / (green + swir1))))',           \n",
        "        {\n",
        "            'swir1': img.select('SWIR1'),\n",
        "            'nir': img.select('NIR'),\n",
        "            'red': img.select('R'),\n",
        "            'green': img.select('G'),\n",
        "            'const': const\n",
        "        }).rename('IBI')\n",
        "    return img.addBands(ibi)      "
      ],
      "metadata": {
        "id": "MNDMVxkR-eQh"
      },
      "execution_count": 13,
      "outputs": []
    },
    {
      "cell_type": "markdown",
      "source": [
        "6.5 Parameter calculation"
      ],
      "metadata": {
        "id": "ruGrOjyf_-LD"
      }
    },
    {
      "cell_type": "code",
      "source": [
        "# Tasseled Cap Transformation (brightness, greenness, wetness) (Crist & Cicone, 1984)\n",
        "def fun_tcg(img):\n",
        "    tcg = img.expression(\n",
        "                         'B*(-0.1603) + G*(-0.2819) + R*(-0.4934) + NIR*0.7940 + SWIR1*(-0.0002) + SWIR2*(-0.1446)',\n",
        "                         {\n",
        "                         'B': img.select(['B']),\n",
        "                         'G': img.select(['G']),\n",
        "                         'R': img.select(['R']),\n",
        "                         'NIR': img.select(['NIR']),\n",
        "                         'SWIR1': img.select(['SWIR1']),\n",
        "                         'SWIR2': img.select(['SWIR2'])\n",
        "                         }).rename('TCG')\n",
        "    return img.addBands(tcg)\n",
        "\n",
        "\n",
        "def fun_tcb(img):\n",
        "    tcb = img.expression(\n",
        "                         'B*0.2043 + G*0.4158 + R*0.5524 + NIR*0.5741 + SWIR1*0.3124 + SWIR2*0.2303',\n",
        "                         {\n",
        "                         'B': img.select(['B']),\n",
        "                         'G': img.select(['G']),\n",
        "                         'R': img.select(['R']),\n",
        "                         'NIR': img.select(['NIR']),\n",
        "                         'SWIR1': img.select(['SWIR1']),\n",
        "                         'SWIR2': img.select(['SWIR2'])\n",
        "                         }).rename('TCB')\n",
        "    return img.addBands(tcb)\n",
        "\n",
        "\n",
        "def fun_tcw(img):\n",
        "       tcw = img.expression(\n",
        "              'B*0.0315 + G*0.2021 + R*0.3102 + NIR*0.1594 + SWIR1*(-0.6806) + SWIR2*(-0.6109)',\n",
        "              {\n",
        "                     'B': img.select(['B']),\n",
        "                     'G': img.select(['G']),\n",
        "                     'R': img.select(['R']),\n",
        "                     'NIR': img.select(['NIR']),\n",
        "                     'SWIR1': img.select(['SWIR1']),\n",
        "                     'SWIR2': img.select(['SWIR2'])\n",
        "              }).rename('TCW')\n",
        "       return img.addBands(tcw)\n",
        "\n",
        "\n",
        "# Fraction Vegetation Cover (FVC) (Carlson & Ripley, 1997)\n",
        "def fun_fvc(img):\n",
        "    fvc = img.expression(\n",
        "        '((NDVI-NDVI_s)/(NDVI_v-NDVI_s))**2',\n",
        "        {\n",
        "            'NDVI': img.select('NDVI'),\n",
        "            'NDVI_s': ndvi_s,\n",
        "            'NDVI_v': ndvi_v\n",
        "        }\n",
        "    ).rename('FVC')\n",
        "    return img.addBands(fvc)\n",
        "\n",
        "# emissivity (Sobrino et al., 2008)\n",
        "# scale Emissivity (Epsilon) between NDVI_s and NDVI_v\n",
        "def fun_epsilon_scale(img):\n",
        "    epsilon_scale = img.expression(\n",
        "        'epsilon_s+(epsilon_v-epsilon_s)*FVC',\n",
        "        {\n",
        "            'FVC': img.select('FVC'),\n",
        "            'epsilon_s': epsilon_s,\n",
        "            'epsilon_v': epsilon_v\n",
        "        }\n",
        "    ).rename('EPSILON_SCALE')\n",
        "    return img.addBands(epsilon_scale)\n",
        "\n",
        "\n",
        "# emissivity (Epsilon)\n",
        "def fun_epsilon(img):\n",
        "    pseudo = img.select(['NDVI']).set('system:time_start', img.get('system:time_start'))\n",
        "    epsilon = pseudo.where(img.expression('NDVI > NDVI_v',\n",
        "                                          {'NDVI': img.select('NDVI'),\n",
        "                                           'NDVI_v': ndvi_v}), epsilon_v)\n",
        "    epsilon = epsilon.where(img.expression('NDVI < NDVI_s && NDVI >= 0',\n",
        "                                           {'NDVI': img.select('NDVI'),\n",
        "                                            'NDVI_s': ndvi_s}), epsilon_s)\n",
        "    epsilon = epsilon.where(img.expression('NDVI < 0',\n",
        "                                           {'NDVI': img.select('NDVI')}), epsilon_w)\n",
        "    epsilon = epsilon.where(img.expression('NDVI <= NDVI_v && NDVI >= NDVI_s',\n",
        "                                           {'NDVI': img.select('NDVI'),\n",
        "                                            'NDVI_v': ndvi_v,\n",
        "                                            'NDVI_s': ndvi_s}), img.select('EPSILON_SCALE')).rename('EPSILON')\n",
        "    return img.addBands(epsilon)\n",
        "\n",
        "\n",
        "# Function to scale WV content product (Lantz et al., 2010)\n",
        "def fun_wv_scale(img):\n",
        "    wv_scaled = ee.Image(img.get('WV')).multiply(0.1).rename('WV_SCALED')\n",
        "    wv_scaled = wv_scaled.resample('bilinear')\n",
        "    return img.addBands(wv_scaled)"
      ],
      "metadata": {
        "id": "Y7O4l-T7ACuZ"
      },
      "execution_count": 14,
      "outputs": []
    },
    {
      "cell_type": "markdown",
      "source": [
        "6.6 Land surface temperature calculation"
      ],
      "metadata": {
        "id": "F6Tk-x-RAMZ1"
      }
    },
    {
      "cell_type": "code",
      "source": [
        "# Atmospheric Functions (Lantz et al., 2010 & Jiménez-Muñoz et al., 2014)\n",
        "def fun_af1(cs):\n",
        "    def wrap(img):\n",
        "        af1 = img.expression(\n",
        "            '('+str(cs[0])+'*(WV**2))+('+str(cs[1])+'*WV)+('+str(cs[2])+')',\n",
        "            {\n",
        "                'WV': img.select('WV_SCALED')\n",
        "            }\n",
        "        ).rename('AF1')\n",
        "        return img.addBands(af1)\n",
        "    return wrap\n",
        "\n",
        "\n",
        "def fun_af2(cs):\n",
        "    def wrap(img):\n",
        "        af2 = img.expression(\n",
        "            '('+str(cs[3])+'*(WV**2))+('+str(cs[4])+'*WV)+('+str(cs[5])+')',\n",
        "            {\n",
        "                'WV': img.select('WV_SCALED')\n",
        "            }\n",
        "        ).rename('AF2')\n",
        "        return img.addBands(af2)\n",
        "    return wrap\n",
        "\n",
        "\n",
        "def fun_af3(cs):\n",
        "    def wrap(img):\n",
        "        af3 = img.expression(\n",
        "            '('+str(cs[6])+'*(WV**2))+('+str(cs[7])+'*WV)+('+str(cs[8])+')',\n",
        "            {\n",
        "                'WV': img.select('WV_SCALED')\n",
        "            }\n",
        "        ).rename('AF3')\n",
        "        return img.addBands(af3)\n",
        "    return wrap\n",
        "\n",
        "\n",
        "# Gamma Functions\n",
        "def fun_gamma_l8(img):\n",
        "    gamma = img.expression('(BT**2)/(1324*L)',\n",
        "                           {'BT': img.select('TIR'),\n",
        "                            'L': img.select('L')\n",
        "                            }).rename('GAMMA')\n",
        "    return img.addBands(gamma)\n",
        "\n",
        "\n",
        "def fun_gamma_l7(img):\n",
        "    gamma = img.expression('(BT**2)/(1277*L)',\n",
        "                           {'BT': img.select('TIR'),\n",
        "                            'L': img.select('L')\n",
        "                            }).rename('GAMMA')\n",
        "    return img.addBands(gamma)\n",
        "\n",
        "\n",
        "def fun_gamma_l5(img):\n",
        "    gamma = img.expression('(BT**2)/(1256*L)',\n",
        "                           {'BT': img.select('TIR'),\n",
        "                            'L': img.select('L')\n",
        "                            }).rename('GAMMA')\n",
        "    return img.addBands(gamma)\n",
        "\n",
        "\n",
        "# Delta Functions\n",
        "def fun_delta_l8(img):\n",
        "    delta = img.expression('BT-((BT**2)/1324)',\n",
        "                           {'BT': img.select('TIR')\n",
        "                            }).rename('DELTA')\n",
        "    return img.addBands(delta)\n",
        "\n",
        "\n",
        "def fun_delta_l7(img):\n",
        "    delta = img.expression('BT-((BT**2)/1277)',\n",
        "                           {'BT': img.select('TIR')\n",
        "                            }).rename('DELTA')\n",
        "    return img.addBands(delta)\n",
        "\n",
        "\n",
        "def fun_delta_l5(img):\n",
        "    delta = img.expression('BT-((BT**2)/1256)',\n",
        "                           {'BT': img.select('TIR')\n",
        "                            }).rename('DELTA')\n",
        "    return img.addBands(delta)\n",
        "\n",
        "\n",
        "# Land Surface Temperature (Jimenez-Munoz et al., 2008)\n",
        "def fun_lst(img):\n",
        "    lst = img.expression(\n",
        "        '(GAMMA*(((1/EPSILON)*(AF1*L+AF2))+AF3)+DELTA)-273.15',\n",
        "        {\n",
        "            'GAMMA': img.select('GAMMA'),\n",
        "            'DELTA': img.select('DELTA'),\n",
        "            'EPSILON': img.select('EPSILON'),\n",
        "            'AF1': img.select('AF1'),\n",
        "            'AF2': img.select('AF2'),\n",
        "            'AF3': img.select('AF3'),\n",
        "            'L': img.select('L')\n",
        "        }\n",
        "    ).rename('LST')\n",
        "    return img.addBands(lst)\n",
        "\n",
        "\n",
        "def fun_mask_lst(img):\n",
        "    mask = img.select('LST').gt(t_threshold)\n",
        "    return img.updateMask(mask)"
      ],
      "metadata": {
        "id": "R-gHiZMMARvw"
      },
      "execution_count": 15,
      "outputs": []
    },
    {
      "cell_type": "markdown",
      "source": [
        "6.7 Descriptive statistics extraction and date variables"
      ],
      "metadata": {
        "id": "T41vwUtDKyeh"
      }
    },
    {
      "cell_type": "code",
      "source": [
        "#function for extracting image info\n",
        "def fctn_get_image_stats(img):\n",
        "  img_lst = img.select('LST')\n",
        "  img_ndvi = img.select('NDVI')\n",
        "  img_mndwi = img.select('MNDWI')\n",
        "  img_ibi = img.select('IBI')\n",
        "  # img_cloud_cover = img.get('CLOUD_COVER').getInfo()\n",
        "  \n",
        "\n",
        "  img_lst_mean_value = img_lst.reduceRegion(ee.Reducer.mean(), roi, 30,  crs = 'EPSG:32648', bestEffort = True, maxPixels = 1e9).getInfo()['LST']\n",
        "  img_ndvi_mean_value = img_ndvi.reduceRegion(ee.Reducer.mean(), roi, 30,  crs = 'EPSG:32648', bestEffort = True, maxPixels = 1e9).getInfo()['NDVI']\n",
        "  img_mndwi_mean_value = img_mndwi.reduceRegion(ee.Reducer.mean(), roi, 30,  crs = 'EPSG:32648', bestEffort = True, maxPixels = 1e9).getInfo()['MNDWI']\n",
        "  img_ibi_mean_value = img_ibi.reduceRegion(ee.Reducer.mean(), roi, 30,  crs = 'EPSG:32648', bestEffort = True, maxPixels = 1e9).getInfo()['IBI']\n",
        "\n",
        "\n",
        "  img_lst_max_value = img_lst.reduceRegion(ee.Reducer.max(), roi, 30,  crs = 'EPSG:32648', bestEffort = True, maxPixels = 1e9).getInfo()['LST']\n",
        "  img_ndvi_max_value = img_ndvi.reduceRegion(ee.Reducer.max(), roi, 30,  crs = 'EPSG:32648', bestEffort = True, maxPixels = 1e9).getInfo()['NDVI']\n",
        "  img_mndwi_max_value = img_mndwi.reduceRegion(ee.Reducer.max(), roi, 30,  crs = 'EPSG:32648', bestEffort = True, maxPixels = 1e9).getInfo()['MNDWI']\n",
        "  img_ibi_max_value = img_ibi.reduceRegion(ee.Reducer.max(), roi, 30,  crs = 'EPSG:32648', bestEffort = True, maxPixels = 1e9).getInfo()['IBI']\n",
        "\n",
        "\n",
        "  img_lst_min_value = img_lst.reduceRegion(ee.Reducer.min(), roi, 30,  crs = 'EPSG:32648', bestEffort = True, maxPixels = 1e9).getInfo()['LST']\n",
        "  img_ndvi_min_value = img_ndvi.reduceRegion(ee.Reducer.min(), roi, 30,  crs = 'EPSG:32648', bestEffort = True, maxPixels = 1e9).getInfo()['NDVI']\n",
        "  img_mndwi_min_value = img_mndwi.reduceRegion(ee.Reducer.min(), roi, 30,  crs = 'EPSG:32648', bestEffort = True, maxPixels = 1e9).getInfo()['MNDWI']\n",
        "  img_ibi_min_value = img_ibi.reduceRegion(ee.Reducer.min(), roi, 30,  crs = 'EPSG:32648', bestEffort = True, maxPixels = 1e9).getInfo()['IBI']\n",
        "\n",
        "  \n",
        "  img_date = img.date().getInfo()['value']\n",
        "  \n",
        "  img_sytemindex = img.get('system:index').getInfo()\n",
        "\n",
        "  img_cloud_cover = img.get('L')\n",
        "  img_cloud_cover = ee.Image(img_cloud_cover)\n",
        "  img_cloud_cover = img_cloud_cover.get('CLOUD_COVER').getInfo()\n",
        "  # print(img_cloud_cover)\n",
        "\n",
        "  img_all_info = {\n",
        "      'system:index': img_sytemindex,\n",
        "      'date': img_date,\n",
        "      'mean_lst' : img_lst_mean_value,\n",
        "      'mean_ndvi' : img_ndvi_mean_value,\n",
        "      'mean_mndwi' : img_mndwi_mean_value,\n",
        "      'mean_ibi' : img_ibi_mean_value,\n",
        "\n",
        "      'min_lst' : img_lst_min_value,\n",
        "      'min_ndvi' : img_ndvi_min_value,\n",
        "      'min_mndwi' : img_mndwi_min_value,\n",
        "      'min_ibi' : img_ibi_min_value,\n",
        "      \n",
        "      'max_lst' : img_lst_max_value,\n",
        "      'max_ndvi' : img_ndvi_max_value,\n",
        "      'max_mndwi' : img_mndwi_max_value,\n",
        "      'max_ibi' : img_ibi_max_value,\n",
        "      'cloud_cover': img_cloud_cover\n",
        "      \n",
        "  }\n",
        "\n",
        "  return img_all_info\n",
        "\n",
        "# Function to add date variables to DataFrame.\n",
        "def add_date_info(df):\n",
        "  df['Timestamp'] = pd.to_datetime(df['Millis'], unit='ms')\n",
        "  df['Year'] = pd.DatetimeIndex(df['Timestamp']).year\n",
        "  df['Month'] = pd.DatetimeIndex(df['Timestamp']).month\n",
        "  df['Day'] = pd.DatetimeIndex(df['Timestamp']).day\n",
        "  df['DOY'] = pd.DatetimeIndex(df['Timestamp']).dayofyear\n",
        "  return df"
      ],
      "metadata": {
        "id": "aRcxejweKy3j"
      },
      "execution_count": 16,
      "outputs": []
    },
    {
      "cell_type": "markdown",
      "source": [
        "**7. Calling the image collections**"
      ],
      "metadata": {
        "id": "-wLYna4MhDWq"
      }
    },
    {
      "cell_type": "code",
      "source": [
        "# Landsat 5 TM\n",
        "imgCol_L5_TOA = ee.ImageCollection('LANDSAT/LT05/C01/T1')\\\n",
        "    .filterBounds(roi)\\\n",
        "    .filter(ee.Filter.calendarRange(year_start,year_end,'year'))\\\n",
        "    .filter(ee.Filter.calendarRange(month_start,month_end,'month'))\\\n",
        "    .filter(ee.Filter.lt('CLOUD_COVER', max_cloud_cover))\\\n",
        "    .select(['B6'])\n",
        "\n",
        "imgCol_L5_SR = ee.ImageCollection('LANDSAT/LT05/C01/T1_SR')\\\n",
        "    .filterBounds(roi)\\\n",
        "    .filter(ee.Filter.calendarRange(year_start,year_end,'year'))\\\n",
        "    .filter(ee.Filter.calendarRange(month_start,month_end,'month'))\\\n",
        "    .filter(ee.Filter.lt('CLOUD_COVER', max_cloud_cover))\\\n",
        "    .map(fun_mask_ls_sr)\n",
        "\n",
        "imgCol_L5_SR = imgCol_L5_SR.map(fun_bands_l57)\n",
        "\n",
        "# Landsat 7 ETM+\n",
        "imgCol_L7_TOA = ee.ImageCollection('LANDSAT/LE07/C01/T1')\\\n",
        "    .filterBounds(roi)\\\n",
        "    .filter(ee.Filter.calendarRange(year_start,year_end,'year'))\\\n",
        "    .filter(ee.Filter.calendarRange(month_start,month_end,'month'))\\\n",
        "    .filter(ee.Filter.lt('CLOUD_COVER', max_cloud_cover))\\\n",
        "    .select(['B6_VCID_2'])\n",
        "\n",
        "imgCol_L7_SR = ee.ImageCollection('LANDSAT/LE07/C01/T1_SR')\\\n",
        "    .filterBounds(roi)\\\n",
        "    .filter(ee.Filter.calendarRange(year_start,year_end,'year'))\\\n",
        "    .filter(ee.Filter.calendarRange(month_start,month_end,'month'))\\\n",
        "    .filter(ee.Filter.lt('CLOUD_COVER', max_cloud_cover))\\\n",
        "    .map(fun_mask_ls_sr)\n",
        "\n",
        "imgCol_L7_SR = imgCol_L7_SR.map(fun_bands_l57)\n",
        "\n",
        "# Landsat 8 OLI-TIRS\n",
        "imgCol_L8_TOA = ee.ImageCollection('LANDSAT/LC08/C01/T1')\\\n",
        "    .filterBounds(roi)\\\n",
        "    .filter(ee.Filter.calendarRange(year_start,year_end,'year'))\\\n",
        "    .filter(ee.Filter.calendarRange(month_start,month_end,'month'))\\\n",
        "    .filter(ee.Filter.lt('CLOUD_COVER', max_cloud_cover))\\\n",
        "    .select(['B10'])\n",
        "\n",
        "imgCol_L8_SR = ee.ImageCollection('LANDSAT/LC08/C01/T1_SR')\\\n",
        "    .filterBounds(roi)\\\n",
        "    .filter(ee.Filter.calendarRange(year_start,year_end,'year'))\\\n",
        "    .filter(ee.Filter.calendarRange(month_start,month_end,'month'))\\\n",
        "    .filter(ee.Filter.lt('CLOUD_COVER', max_cloud_cover))\\\n",
        "    .map(fun_mask_ls_sr)\n",
        "\n",
        "imgCol_L8_SR = imgCol_L8_SR.map(fun_bands_l8)\n",
        "\n",
        "# NCEP/NCAR Water Vapor Product\n",
        "imgCol_WV = ee.ImageCollection('NCEP_RE/surface_wv')\\\n",
        "    .filterBounds(roi)\\\n",
        "    .filter(ee.Filter.calendarRange(year_start,year_end,'year'))\\\n",
        "    .filter(ee.Filter.calendarRange(month_start,month_end,'month'))\n",
        "\n",
        "print(\"Total LS 5 collection TOA: \",imgCol_L5_TOA.size().getInfo())\n",
        "print(\"Total LS 5 collection SR: \",imgCol_L5_SR.size().getInfo())\n",
        "print(\"Total LS 7 collection TOA: \",imgCol_L7_TOA.size().getInfo())\n",
        "print(\"Total LS 7 collection SR: \",imgCol_L7_SR.size().getInfo())\n",
        "print(\"Total LS 8 collection TOA: \",imgCol_L8_TOA.size().getInfo())\n",
        "print(\"Total LS 8 collection SR: \",imgCol_L8_SR.size().getInfo())    "
      ],
      "metadata": {
        "id": "ioPqKy0fYr2i",
        "colab": {
          "base_uri": "https://localhost:8080/"
        },
        "outputId": "02aa89cc-c554-4927-de41-9f9a61c3d387"
      },
      "execution_count": 17,
      "outputs": [
        {
          "output_type": "stream",
          "name": "stdout",
          "text": [
            "Total LS 5 collection TOA:  115\n",
            "Total LS 5 collection SR:  115\n",
            "Total LS 7 collection TOA:  213\n",
            "Total LS 7 collection SR:  213\n",
            "Total LS 8 collection TOA:  134\n",
            "Total LS 8 collection SR:  134\n"
          ]
        }
      ]
    },
    {
      "cell_type": "markdown",
      "source": [
        "**8. Calculation of LST and other indices**"
      ],
      "metadata": {
        "id": "UGh_NbGR0-9D"
      }
    },
    {
      "cell_type": "code",
      "source": [
        "# TOA (Radiance) and SR\n",
        "imgCol_L5_TOA = imgCol_L5_TOA.map(fun_radcal)\n",
        "imgCol_L7_TOA = imgCol_L7_TOA.map(fun_radcal)\n",
        "imgCol_L8_TOA = imgCol_L8_TOA.map(fun_radcal)\n",
        "\n",
        "imgCol_L5_SR = ee.ImageCollection(join_l.apply(imgCol_L5_SR, imgCol_L5_TOA, maxDiffFilter))\n",
        "imgCol_L7_SR = ee.ImageCollection(join_l.apply(imgCol_L7_SR, imgCol_L7_TOA, maxDiffFilter))\n",
        "imgCol_L8_SR = ee.ImageCollection(join_l.apply(imgCol_L8_SR, imgCol_L8_TOA, maxDiffFilter))\n",
        "\n",
        "imgCol_L5_SR = imgCol_L5_SR.map(fun_l_addband)\n",
        "imgCol_L7_SR = imgCol_L7_SR.map(fun_l_addband)\n",
        "imgCol_L8_SR = imgCol_L8_SR.map(fun_l_addband)\n",
        "\n",
        "# Water Vapor\n",
        "imgCol_L5_SR = ee.ImageCollection(join_wv.apply(imgCol_L5_SR, imgCol_WV, maxDiffFilter))\n",
        "imgCol_L7_SR = ee.ImageCollection(join_wv.apply(imgCol_L7_SR, imgCol_WV, maxDiffFilter))\n",
        "imgCol_L8_SR = ee.ImageCollection(join_wv.apply(imgCol_L8_SR, imgCol_WV, maxDiffFilter))\n",
        "\n",
        "imgCol_L5_SR = imgCol_L5_SR.map(fun_wv_scale)\n",
        "imgCol_L7_SR = imgCol_L7_SR.map(fun_wv_scale)\n",
        "imgCol_L8_SR = imgCol_L8_SR.map(fun_wv_scale)\n",
        "\n",
        "# Atmospheric Functions\n",
        "imgCol_L5_SR = imgCol_L5_SR.map(fun_af1(cs_l5))\n",
        "imgCol_L5_SR = imgCol_L5_SR.map(fun_af2(cs_l5))\n",
        "imgCol_L5_SR = imgCol_L5_SR.map(fun_af3(cs_l5))\n",
        "\n",
        "imgCol_L7_SR = imgCol_L7_SR.map(fun_af1(cs_l7))\n",
        "imgCol_L7_SR = imgCol_L7_SR.map(fun_af2(cs_l7))\n",
        "imgCol_L7_SR = imgCol_L7_SR.map(fun_af3(cs_l7))\n",
        "\n",
        "imgCol_L8_SR = imgCol_L8_SR.map(fun_af1(cs_l8))\n",
        "imgCol_L8_SR = imgCol_L8_SR.map(fun_af2(cs_l8))\n",
        "imgCol_L8_SR = imgCol_L8_SR.map(fun_af3(cs_l8))\n",
        "\n",
        "# Delta and Gamma Functions\n",
        "imgCol_L5_SR = imgCol_L5_SR.map(fun_delta_l5)\n",
        "imgCol_L7_SR = imgCol_L7_SR.map(fun_delta_l7)\n",
        "imgCol_L8_SR = imgCol_L8_SR.map(fun_delta_l8)\n",
        "\n",
        "imgCol_L5_SR = imgCol_L5_SR.map(fun_gamma_l5)\n",
        "imgCol_L7_SR = imgCol_L7_SR.map(fun_gamma_l7)\n",
        "imgCol_L8_SR = imgCol_L8_SR.map(fun_gamma_l8)\n",
        "\n",
        "# Merge Collections\n",
        "imgCol_merge = imgCol_L8_SR.merge(imgCol_L7_SR).merge(imgCol_L5_SR)\n",
        "imgCol_merge = imgCol_merge.sort('system:time_start')\n",
        "\n",
        "# Clipping to ROI\n",
        "imgCol_merge = imgCol_merge.map(fun_clip)\n",
        "\n",
        "# Parameters and Indices\n",
        "imgCol_merge = imgCol_merge.map(fun_ndvi)\n",
        "imgCol_merge = imgCol_merge.map(fun_ibi)\n",
        "imgCol_merge = imgCol_merge.map(fun_mndwi)\n",
        "imgCol_merge = imgCol_merge.map(fun_tcg)\n",
        "imgCol_merge = imgCol_merge.map(fun_tcb)\n",
        "imgCol_merge = imgCol_merge.map(fun_tcw)\n",
        "\n",
        "imgCol_merge = imgCol_merge.map(fun_fvc)\n",
        "imgCol_merge = imgCol_merge.map(fun_epsilon_scale)\n",
        "imgCol_merge = imgCol_merge.map(fun_epsilon)\n",
        "\n",
        "\n",
        "# LST\n",
        "imgCol_merge = imgCol_merge.map(fun_lst)\n",
        "imgCol_merge = imgCol_merge.map(fun_mask_lst)\n",
        "\n"
      ],
      "metadata": {
        "id": "dyE6xbLQhPVE"
      },
      "execution_count": 18,
      "outputs": []
    },
    {
      "cell_type": "code",
      "source": [
        "imgCol_merge"
      ],
      "metadata": {
        "id": "DV_YupgLDTHa"
      },
      "execution_count": null,
      "outputs": []
    },
    {
      "cell_type": "code",
      "source": [
        "print(\"Total image collection merged and clipped: \",imgCol_merge.size().getInfo())"
      ],
      "metadata": {
        "colab": {
          "base_uri": "https://localhost:8080/"
        },
        "id": "xFXA6XbgDokD",
        "outputId": "1b260664-f5a4-479c-9d8f-3b241921c0d2"
      },
      "execution_count": 20,
      "outputs": [
        {
          "output_type": "stream",
          "name": "stdout",
          "text": [
            "Total image collection merged and clipped:  462\n"
          ]
        }
      ]
    },
    {
      "cell_type": "code",
      "source": [
        "# testing LST output\n",
        "img1 = imgCol_merge.sort('system:time_start', False).first()\n",
        "img1 = img1.select('LST')\n",
        "lst_max = ee.Number(img1.reduceRegion(**{\n",
        "  \"reducer\": ee.Reducer.max(),\n",
        "  \"scale\": 30,\n",
        "  \"maxPixels\": 10**9\n",
        "}).values().get(0));\n",
        "print( 'max value of lst',lst_max.getInfo())\n",
        "\n",
        "lst_min = ee.Number(img1.reduceRegion(**{\n",
        "  \"reducer\": ee.Reducer.min(),\n",
        "  \"scale\": 30,\n",
        "  \"maxPixels\": 10**9\n",
        "}).values().get(0));\n",
        "print( 'min value of lst',lst_min.getInfo())"
      ],
      "metadata": {
        "id": "v9URly_zKFgf",
        "colab": {
          "base_uri": "https://localhost:8080/"
        },
        "outputId": "2ac16feb-657b-47a2-8215-8a4efdd42058"
      },
      "execution_count": 21,
      "outputs": [
        {
          "output_type": "stream",
          "name": "stdout",
          "text": [
            "max value of lst 36.152194580261664\n",
            "min value of lst 20.00147696045792\n"
          ]
        }
      ]
    },
    {
      "cell_type": "code",
      "source": [
        "band_names = imgCol_merge.sort('system:time_start', False).first().bandNames()\n",
        "print(\"Band names:\", band_names.getInfo())"
      ],
      "metadata": {
        "colab": {
          "base_uri": "https://localhost:8080/"
        },
        "id": "oVJqISTu2eoc",
        "outputId": "af78a6b1-0fc2-4b62-bbdc-f84e51728269"
      },
      "execution_count": 23,
      "outputs": [
        {
          "output_type": "stream",
          "name": "stdout",
          "text": [
            "Band names: ['B', 'G', 'R', 'NIR', 'SWIR1', 'SWIR2', 'TIR', 'L', 'WV_SCALED', 'AF1', 'AF2', 'AF3', 'DELTA', 'GAMMA', 'NDVI', 'IBI', 'MNDWI', 'TCG', 'TCB', 'TCW', 'FVC', 'EPSILON_SCALE', 'EPSILON', 'LST']\n"
          ]
        }
      ]
    },
    {
      "cell_type": "markdown",
      "source": [
        "**9. Descriptive statistics extraction** (Caution! if you run this it will take long time)"
      ],
      "metadata": {
        "id": "08QOyIl-Lz71"
      }
    },
    {
      "cell_type": "code",
      "source": [
        "# final merged image collection\n",
        "imgCol_merge\n",
        "\n",
        "# converting image collection to list\n",
        "doi = imgCol_merge\n",
        "doiList = doi.toList(doi.size())\n",
        "doiList_size = doiList.size().getInfo()\n",
        "print('Total Images in Data of Interest (doi) dataset: ',doiList_size)\n",
        "\n",
        "# creating the dataframe\n",
        "df = pd.DataFrame(columns=['SystemIndex', 'Millis', 'MeanIBI','MaxIBI','MinIBI', 'MeanNDVI','MaxNDVI','MinNDVI', 'MeanMNDWI', 'MaxMNDWI', 'MinMNDWI', 'MeanLST', 'MaxLST', 'MinLST', 'Cloud'])\n",
        "# iteration\n",
        "for i in tqdm(range(doiList_size)):\n",
        "  image = ee.Image(doiList.get(i))\n",
        "  image_info = fctn_get_image_stats(image)\n",
        "  \n",
        "  df = df.append({'SystemIndex': image_info['system:index'], \n",
        "                  'Millis':  image_info['date'], \n",
        "                  'MeanIBI': image_info['mean_ibi'], \n",
        "                  'MaxIBI': image_info['max_ibi'], \n",
        "                  'MinIBI': image_info['min_ibi'],\n",
        "                  'MeanNDVI': image_info['mean_ndvi'], \n",
        "                  'MaxNDVI': image_info['max_ndvi'], \n",
        "                  'MinNDVI': image_info['min_ndvi'],\n",
        "                  'MeanMNDWI': image_info['mean_mndwi'], \n",
        "                  'MaxMNDWI': image_info['max_mndwi'], \n",
        "                  'MinMNDWI': image_info['min_mndwi'],\n",
        "                  'MeanLST': image_info['mean_lst'], \n",
        "                  'MaxLST': image_info['max_lst'], \n",
        "                  'MinLST': image_info['min_lst'],\n",
        "                  'Cloud' : image_info['cloud_cover']\n",
        "                  }, ignore_index=True)"
      ],
      "metadata": {
        "id": "uKSU1K-ML7y9"
      },
      "execution_count": null,
      "outputs": []
    },
    {
      "cell_type": "code",
      "source": [
        "df"
      ],
      "metadata": {
        "id": "iU819EF_Mbe9"
      },
      "execution_count": null,
      "outputs": []
    },
    {
      "cell_type": "code",
      "source": [
        "#adding the date variables\n",
        "df2 = add_date_info(df)\n",
        "\n",
        "# dataframe with date variable\n",
        "df2"
      ],
      "metadata": {
        "id": "oxughMZIMmft"
      },
      "execution_count": null,
      "outputs": []
    },
    {
      "cell_type": "code",
      "source": [
        "# export the dataframe to a CSV file\n",
        "df2.to_csv('dfall.csv', index=False)"
      ],
      "metadata": {
        "id": "oeNTnWjzjiOn"
      },
      "execution_count": null,
      "outputs": []
    },
    {
      "cell_type": "code",
      "source": [
        "# testing the exported data\n",
        "\n",
        "# function for loading the csv/txt file\n",
        "def load_csv(filepath):\n",
        "    data =  []\n",
        "    col = []\n",
        "    checkcol = False\n",
        "    with open(filepath) as f:\n",
        "        for val in f.readlines():\n",
        "            val = val.replace(\"\\n\",\"\")\n",
        "            val = val.split(',')\n",
        "            if checkcol is False:\n",
        "                col = val\n",
        "                checkcol = True\n",
        "            else:\n",
        "                data.append(val)\n",
        "    df = pd.DataFrame(data=data, columns=col)\n",
        "    return df\n",
        "\n",
        "# loading the exported data\n",
        "df = load_csv('dfall.csv')\n",
        "print(df.head())"
      ],
      "metadata": {
        "colab": {
          "base_uri": "https://localhost:8080/"
        },
        "id": "1kelX6j-CSgb",
        "outputId": "96d6e71a-dabc-4b73-dec1-b1687789c163"
      },
      "execution_count": 25,
      "outputs": [
        {
          "output_type": "stream",
          "name": "stdout",
          "text": [
            "                SystemIndex        Millis               MeanIBI  \\\n",
            "0    2_LT05_126052_20000106  947127305105  -0.20598578032505066   \n",
            "1    2_LT05_126052_20000122  948509683225  -0.19317203334982255   \n",
            "2    2_LT05_126052_20000223  951274414645  -0.23278468351466508   \n",
            "3    2_LT05_126052_20000310  952656810594  -0.18614761533203056   \n",
            "4  1_2_LE07_126052_20000318  953349156882  -0.19616188171193313   \n",
            "\n",
            "                MaxIBI               MinIBI             MeanNDVI  \\\n",
            "0   0.2141956979819891  -0.7074835553585818   0.4586002929559935   \n",
            "1  0.15091431586040388  -0.6532029427252706    0.513571442960777   \n",
            "2    0.148533997358888  -0.8693609351789929    0.453598838434882   \n",
            "3  0.13204303977882137  -0.6339065211475386  0.43329910920858883   \n",
            "4  0.11979207761193293  -0.6654663227031765  0.40460623483219654   \n",
            "\n",
            "              MaxNDVI               MinNDVI             MeanMNDWI  \\\n",
            "0   0.790840744972229    -0.429423451423645  -0.21420265769810595   \n",
            "1  0.8153073787689209  -0.21084745228290558  -0.29372025831314197   \n",
            "2  0.8496555685997009  -0.36033353209495544   -0.1658150627692909   \n",
            "3   0.679463267326355  -0.20913337171077728   -0.1899541764127286   \n",
            "4  0.6678056120872498   -0.0923076942563057  -0.14716442501769225   \n",
            "\n",
            "             MaxMNDWI              MinMNDWI             MeanLST  \\\n",
            "0  0.8486486486486485   -0.5984275778651346  25.760588524104627   \n",
            "1  0.6482889733840304   -0.6449334866152079  24.394342989776042   \n",
            "2  0.9491371480472298   -0.6094545454545455   34.39096429510456   \n",
            "3  0.7586776859504132   -0.5164419209841494   31.30824193706939   \n",
            "4    0.63448784082535  -0.47816391005389325   32.09486232294444   \n",
            "\n",
            "               MaxLST              MinLST Cloud                Timestamp  \\\n",
            "0   32.83207173282972  20.374920266322476    22  2000-01-06 02:55:05.105   \n",
            "1   32.77957402481377   20.00000699646938    31  2000-01-22 02:54:43.225   \n",
            "2  44.140047655837805  29.395545986718673    34  2000-02-23 02:53:34.645   \n",
            "3    39.8829450730737   26.93254073886385    34  2000-03-10 02:53:30.594   \n",
            "4  40.587536909139885  24.399067399684554    37  2000-03-18 03:12:36.882   \n",
            "\n",
            "   Year Month Day DOY  \n",
            "0  2000     1   6   6  \n",
            "1  2000     1  22  22  \n",
            "2  2000     2  23  54  \n",
            "3  2000     3  10  70  \n",
            "4  2000     3  18  78  \n"
          ]
        }
      ]
    },
    {
      "cell_type": "markdown",
      "source": [
        "**The produced dataframe named 'df' is analysed in further statistical analysis** (See the script 'Statistical analysis')"
      ],
      "metadata": {
        "id": "YnhRjWIzgj2Z"
      }
    },
    {
      "cell_type": "markdown",
      "source": [
        "**Data download into google drive (optional)**                        \n",
        "(Use this for a smaller collection for visualization or manual analysis only)"
      ],
      "metadata": {
        "id": "oxTZu473yjM0"
      }
    },
    {
      "cell_type": "code",
      "source": [
        "# selecting on the LST bands\n",
        "imgCol_merge_lst = imgCol_merge.select('LST')"
      ],
      "metadata": {
        "id": "8rPAQMnB14B8"
      },
      "execution_count": null,
      "outputs": []
    },
    {
      "cell_type": "code",
      "source": [
        "def cast_to_float32(image):\n",
        "    return image.toFloat()\n",
        "\n",
        "# Cast all bands in the ImageCollection to Float32\n",
        "imgCol_merge_lst = imgCol_merge_lst.map(cast_to_float32)\n",
        "\n",
        "# Download images to Google Drive\n",
        "for i in range(imgCol_merge_lst.size().getInfo()):\n",
        "    image = imgCol_merge_lst.toList(imgCol_merge_lst.size()).get(i)\n",
        "    image = ee.Image(image)\n",
        "\n",
        "    image_id = image.id().getInfo()\n",
        "    filename = f\"Image_{i + 1}_{image_id}\"\n",
        "\n",
        "    task = ee.batch.Export.image.toDrive(\n",
        "        image=image,\n",
        "        description=filename,\n",
        "        folder='Thesis/Data/Downloaded images',\n",
        "        fileNamePrefix=filename,\n",
        "        scale=30,\n",
        "        fileFormat='GeoTIFF'\n",
        "    )\n",
        "    task.start()\n",
        "    print(f\"Exporting {filename} to Google Drive...\")\n",
        "\n",
        "print(\"All tasks submitted. Please wait for the tasks to finish.\")"
      ],
      "metadata": {
        "id": "nTg4Cz1oyhyL"
      },
      "execution_count": null,
      "outputs": []
    },
    {
      "cell_type": "markdown",
      "source": [
        "**10. References**"
      ],
      "metadata": {
        "id": "Z8VH2Ysg810B"
      }
    },
    {
      "cell_type": "markdown",
      "source": [
        "Carlson, T. N., & Ripley, D. A. (1997). On the relation between NDVI, fractional vegetation cover, and leaf area index. Remote sensing of Environment, 62(3), 241-252.\n",
        "\n",
        "\n",
        "Crist, E. P., & Cicone, R. C. (1984). A physically-based transformation of Thematic Mapper data---The TM Tasseled Cap. IEEE Transactions on Geoscience and Remote sensing, (3), 256-263.\n",
        "\n",
        "Foga, S., Scaramuzza, P. L., Guo, S., Zhu, Z., Dilley Jr, R. D., Beckmann, T., ... & Laue, B. (2017). Cloud detection algorithm comparison and validation for operational Landsat data products. Remote sensing of environment, 194, 379-390.\n",
        "\n",
        "Jimenez-Munoz, J. C., Cristóbal, J., Sobrino, J. A., Sòria, G., Ninyerola, M., & Pons, X. (2008). Revision of the single-channel algorithm for land surface temperature retrieval from Landsat thermal-infrared data. IEEE Transactions on geoscience and remote sensing, 47(1), 339-349.\n",
        "\n",
        "Jiménez-Muñoz, J. C., Sobrino, J. A., Skoković, D., Mattar, C., & Cristobal, J. (2014). Land surface temperature retrieval methods from Landsat-8 thermal infrared sensor data. IEEE Geoscience and remote sensing letters, 11(10), 1840-1843.\n",
        "\n",
        "Lantz, T. C., Gergel, S. E., & Henry, G. H. (2010). Response of green alder (Alnus viridis subsp. fruticosa) patch dynamics and plant community composition to fire and regional temperature in north‐western Canada. Journal of Biogeography, 37(8), 1597-1610.\n",
        "\n",
        "Li, Z. L., Tang, B. H., Wu, H., Ren, H., Yan, G., Wan, Z., ... & Sobrino, J. A. (2013). Satellite-derived land surface temperature: Current status and perspectives. Remote sensing of environment, 131, 14-37.\n",
        "\n",
        "Nill, L., Ullmann, T., Kneisel, C., Sobiech-Wolf, J., & Baumhauer, R. (2019). Assessing spatiotemporal variations of Landsat land surface temperature and multispectral indices in the Arctic Mackenzie Delta Region between 1985 and 2018. Remote Sensing, 11(19), 2329.\n",
        "\n",
        "Rouse Jr, J. W., Haas, R. H., Schell, J. A., & Deering, D. W. (1973). Monitoring the vernal advancement and retrogradation (green wave effect) of natural vegetation (No. NASA-CR-132982).\n",
        "\n",
        "Sobrino, J. A., Jiménez-Muñoz, J. C., Sòria, G., Romaguera, M., Guanter, L., Moreno, J., ... & Martínez, P. (2008). Land surface emissivity retrieval from different VNIR and TIR sensors. IEEE transactions on geoscience and remote sensing, 46(2), 316-327.\n",
        "\n",
        "Xu, H. (2006). Modification of normalised difference water index (NDWI) to enhance open water features in remotely sensed imagery. International journal of remote sensing, 27(14), 3025-3033.\n",
        "\n",
        "Xu, H. (2008). A new index for delineating built‐up land features in satellite imagery. International journal of remote sensing, 29(14), 4269-4276.\n",
        "\n"
      ],
      "metadata": {
        "id": "Alte8gHR9Ati"
      }
    },
    {
      "cell_type": "markdown",
      "source": [
        "**If you want to run the code by yourself in google colab, you will need the shapefile I have used as AOI. Which can be downloaded from the repository by clicking on AOI.zip**"
      ],
      "metadata": {
        "id": "Xd_JqgVAJDQP"
      }
    }
  ]
}