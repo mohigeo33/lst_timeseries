{
  "nbformat": 4,
  "nbformat_minor": 0,
  "metadata": {
    "colab": {
      "provenance": [],
      "authorship_tag": "ABX9TyNLeRaieyMvrgpSXfBC0axS",
      "include_colab_link": true
    },
    "kernelspec": {
      "name": "python3",
      "display_name": "Python 3"
    },
    "language_info": {
      "name": "python"
    }
  },
  "cells": [
    {
      "cell_type": "markdown",
      "metadata": {
        "id": "view-in-github",
        "colab_type": "text"
      },
      "source": [
        "<a href=\"https://colab.research.google.com/github/mohigeo33/lst_timeseries/blob/main/LST_calculation.ipynb\" target=\"_parent\"><img src=\"https://colab.research.google.com/assets/colab-badge.svg\" alt=\"Open In Colab\"/></a>"
      ]
    },
    {
      "cell_type": "markdown",
      "source": [
        "**1. Installing and loading required libraries**\n",
        "\n"
      ],
      "metadata": {
        "id": "qi3cWaApBaLq"
      }
    },
    {
      "cell_type": "code",
      "source": [
        "# installing libraries\n",
        "!pip install geemap --upgrade\n",
        "!pip install geopandas\n",
        "!pip install pyshp\n",
        "!pip install pycrs"
      ],
      "metadata": {
        "id": "S9Eq9yEABtPA"
      },
      "execution_count": null,
      "outputs": []
    },
    {
      "cell_type": "code",
      "source": [
        "# loading necessary libraries\n",
        "import os\n",
        "import sys\n",
        "import ee\n",
        "import geemap\n",
        "import geopandas as gpd\n",
        "import pandas as pd\n",
        "from tqdm import tqdm\n",
        "import math"
      ],
      "metadata": {
        "id": "4XTLSKFKCCNy"
      },
      "execution_count": 2,
      "outputs": []
    },
    {
      "cell_type": "markdown",
      "source": [
        "**2. Initiating Google Earth Engine (GEE)**\n",
        "\n"
      ],
      "metadata": {
        "id": "tqVpKHfpDtXn"
      }
    },
    {
      "cell_type": "code",
      "source": [
        "# trigger the authentication flow.\n",
        "ee.Authenticate()"
      ],
      "metadata": {
        "colab": {
          "base_uri": "https://localhost:8080/"
        },
        "id": "WBSEeFTFECfs",
        "outputId": "a5beed3f-7f22-4e37-dd6e-d41e7fbc917b"
      },
      "execution_count": 3,
      "outputs": [
        {
          "output_type": "stream",
          "name": "stdout",
          "text": [
            "To authorize access needed by Earth Engine, open the following URL in a web browser and follow the instructions. If the web browser does not start automatically, please manually browse the URL below.\n",
            "\n",
            "    https://code.earthengine.google.com/client-auth?scopes=https%3A//www.googleapis.com/auth/earthengine%20https%3A//www.googleapis.com/auth/devstorage.full_control&request_id=BDqFA3eEwlEiYn4HWYVo7-8WAoZYK1rmSMmpLemsAG8&tc=S4sVaIoYUVjbWdok-OPjnc1f74V_k81X1LiDU9MQ6bM&cc=74QaAcdLGbc9m2RrPGAUeJTp5TwZmibfqA3_wu9SP8Q\n",
            "\n",
            "The authorization workflow will generate a code, which you should paste in the box below.\n",
            "Enter verification code: 4/1AVHEtk4ODQuxSBtuazO8x83dGPqyjVgjg4yizWRXe0vCzF-mSwYNKebUsOY\n",
            "\n",
            "Successfully saved authorization token.\n"
          ]
        }
      ]
    },
    {
      "cell_type": "code",
      "source": [
        "# initialize the GEE.\n",
        "ee.Initialize()"
      ],
      "metadata": {
        "id": "EQOuLFHGENiX"
      },
      "execution_count": 4,
      "outputs": []
    },
    {
      "cell_type": "markdown",
      "source": [
        "**3. User inputs**"
      ],
      "metadata": {
        "id": "oCkDypJH63PC"
      }
    },
    {
      "cell_type": "code",
      "source": [
        "# study period\n",
        "year_start = 2000\n",
        "year_end = 2021\n",
        "month_start = 1\n",
        "month_end = 12\n",
        "\n",
        "# temperature threshold\n",
        "t_threshold = 20\n",
        "\n",
        "# cloud filter\n",
        "max_cloud_cover = 60 # in percentage"
      ],
      "metadata": {
        "id": "QFhsL4PMEkeg"
      },
      "execution_count": 5,
      "outputs": []
    },
    {
      "cell_type": "markdown",
      "source": [
        "**4. Importing the study area**"
      ],
      "metadata": {
        "id": "97ud7hmYDF2v"
      }
    },
    {
      "cell_type": "code",
      "source": [
        "# mounting the google dirive\n",
        "from google.colab import drive\n",
        "drive.mount('/content/drive')"
      ],
      "metadata": {
        "colab": {
          "base_uri": "https://localhost:8080/"
        },
        "id": "-x8q1n3uCIUf",
        "outputId": "f9527168-eacf-4be6-a9fc-ce308ac2496c"
      },
      "execution_count": 6,
      "outputs": [
        {
          "output_type": "stream",
          "name": "stdout",
          "text": [
            "Mounted at /content/drive\n"
          ]
        }
      ]
    },
    {
      "cell_type": "code",
      "source": [
        "# setting the working directory\n",
        "os.chdir('/content/drive/MyDrive/Thesis/Data/AOI')\n",
        "print(\"Current working directory: {0}\".format(os.getcwd()))"
      ],
      "metadata": {
        "colab": {
          "base_uri": "https://localhost:8080/"
        },
        "id": "P4jLhjg8DWw_",
        "outputId": "31b1d6c8-48ff-42b6-e6ff-6cf9c348786d"
      },
      "execution_count": 7,
      "outputs": [
        {
          "output_type": "stream",
          "name": "stdout",
          "text": [
            "Current working directory: /content/drive/MyDrive/Thesis/Data/AOI\n"
          ]
        }
      ]
    },
    {
      "cell_type": "code",
      "source": [
        "# AOI\n",
        "aoi =  '/content/drive/MyDrive/Thesis/Data/AOI/aoi3.shp' # insert input here\n",
        "roi = geemap.shp_to_ee(aoi)\n",
        "\n",
        "#ploting the study area\n",
        "Map = geemap.Map()\n",
        "Map.addLayer(roi, {}, 'AOI')\n",
        "Map.centerObject(roi, zoom=12)\n",
        "Map"
      ],
      "metadata": {
        "id": "3VF2SnkNFUZe"
      },
      "execution_count": null,
      "outputs": []
    },
    {
      "cell_type": "markdown",
      "source": [
        "***Most part of the code section till calculation of LST was used from the work of (Nill et. al., 2019).***"
      ],
      "metadata": {
        "id": "iafi0smj65VV"
      }
    },
    {
      "cell_type": "markdown",
      "source": [
        "*GEE Implementation of the Single-Channel (SC) algorithm developed by Jiménez-Muñoz & Sobrino (2003),\n",
        "Jiménez-Muñoz et al. (2009) and Jiménez-Muñoz et al. (2014) for retrieving statistical metrics of LST\n",
        "from Landsat TM, ETM+ and OLI-TIRS data. The atmospheric functions used in the algorithm are\n",
        "approximated using data on atmospheric water vapor content from the NCEP/NCAR Reanalysis Data. Surface emissivity is calculated using the Simplified Normalized Difference Vegetation Index\n",
        "Threshold (SNDVI) approach as described by Sobrino et al. (2008).*"
      ],
      "metadata": {
        "id": "S-dlddOJ7nJ2"
      }
    },
    {
      "cell_type": "markdown",
      "source": [
        "**5. Algorithm Specifications**"
      ],
      "metadata": {
        "id": "QfdbkAkE9BgO"
      }
    },
    {
      "cell_type": "code",
      "source": [
        "ndvi_v = 0.86\n",
        "ndvi_s = -0.64\n",
        "\n",
        "epsilon_v = 0.985\n",
        "epsilon_s = 0.97\n",
        "epsilon_w = 0.99\n",
        "\n",
        "# Jiménez‐Muñoz et al. (2009) (TM & ETM+) TIGR1761 and Jiménez‐Muñoz et al. (2014) OLI-TIRS GAPRI4838\n",
        "cs_l8 = [0.04019, 0.02916, 1.01523,\n",
        "         -0.38333, -1.50294, 0.20324,\n",
        "         0.00918, 1.36072, -0.27514]\n",
        "cs_l7 = [0.06518, 0.00683, 1.02717,\n",
        "         -0.53003, -1.25866, 0.10490,\n",
        "         -0.01965, 1.36947, -0.24310]\n",
        "cs_l5 = [0.07518, -0.00492, 1.03189,\n",
        "         -0.59600, -1.22554, 0.08104,\n",
        "         -0.02767, 1.43740, -0.25844]"
      ],
      "metadata": {
        "id": "92wcMrd59G07"
      },
      "execution_count": 10,
      "outputs": []
    },
    {
      "cell_type": "markdown",
      "source": [
        "**6. Functions**"
      ],
      "metadata": {
        "id": "fVeHfO1zHn8w"
      }
    },
    {
      "cell_type": "markdown",
      "source": [
        "6.1 Rename bands and clipping"
      ],
      "metadata": {
        "id": "VW5_DR-Qr7k9"
      }
    },
    {
      "cell_type": "code",
      "source": [
        "# cloud masking for Surface Reflectance Products (Nill et. al., 2019)\n",
        "def fun_bands_l57(img):\n",
        "       bands = ['B1', 'B2', 'B3', 'B4', 'B5', 'B7']\n",
        "       thermal_band = ['B6']\n",
        "       new_bands = ['B', 'G', 'R', 'NIR', 'SWIR1', 'SWIR2']\n",
        "       new_thermal_bands = ['TIR']\n",
        "       vnirswir = img.select(bands).multiply(0.0001).rename(new_bands)\n",
        "       tir = img.select(thermal_band).multiply(0.1).rename(new_thermal_bands)\n",
        "       return vnirswir.addBands(tir).copyProperties(img, ['system:time_start'])\n",
        "\n",
        "\n",
        "def fun_bands_l8(img):\n",
        "       bands = ['B2', 'B3', 'B4', 'B5', 'B6', 'B7']\n",
        "       thermal_band = ['B10']\n",
        "       new_bands = ['B', 'G', 'R', 'NIR', 'SWIR1', 'SWIR2']\n",
        "       new_thermal_bands = ['TIR']\n",
        "       vnirswir = img.select(bands).multiply(0.0001).rename(new_bands)\n",
        "       tir = img.select(thermal_band).multiply(0.1).rename(new_thermal_bands)\n",
        "       return vnirswir.addBands(tir).copyProperties(img, ['system:time_start'])\n",
        "\n",
        "#clipping\n",
        "def fun_clip(img):\n",
        "  clip_img = img.clip(roi)\n",
        "  return clip_img"
      ],
      "metadata": {
        "id": "PRmF6A7iGGmt"
      },
      "execution_count": 11,
      "outputs": []
    },
    {
      "cell_type": "markdown",
      "source": [
        "6.2 Masking"
      ],
      "metadata": {
        "id": "6VzRYywC-VeR"
      }
    },
    {
      "cell_type": "code",
      "source": [
        "# Function to cloud mask Landsat TM, ETM+, OLI_TIRS Surface Reflectance Products\n",
        "def fun_mask_ls_sr(img):\n",
        "       cloudShadowBitMask = ee.Number(2).pow(3).int()\n",
        "       cloudsBitMask = ee.Number(2).pow(5).int()\n",
        "       snowBitMask = ee.Number(2).pow(4).int()\n",
        "       qa = img.select('pixel_qa')\n",
        "       mask = qa.bitwiseAnd(cloudShadowBitMask).eq(0).And(\n",
        "              qa.bitwiseAnd(cloudsBitMask).eq(0)).And(\n",
        "              qa.bitwiseAnd(snowBitMask).eq(0))\n",
        "       return img.updateMask(mask)\n",
        "\n",
        "\n",
        "# Function to mask LST below certain temperature threshold\n",
        "def fun_mask_T(img):\n",
        "    mask = img.select('LST').gt(t_threshold)\n",
        "    return img.updateMask(mask)"
      ],
      "metadata": {
        "id": "AR-rVDbr-UiJ"
      },
      "execution_count": 12,
      "outputs": []
    },
    {
      "cell_type": "markdown",
      "source": [
        "6.3 Matching and calibration"
      ],
      "metadata": {
        "id": "TV8xQF9s-jLU"
      }
    },
    {
      "cell_type": "code",
      "source": [
        "# Radiometric Calibration\n",
        "def fun_radcal(img):\n",
        "    radiance = ee.Algorithms.Landsat.calibratedRadiance(img).rename('RADIANCE')\n",
        "    return img.addBands(radiance)\n",
        "\n",
        "\n",
        "# L to ee.Image\n",
        "def fun_l_addband(img):\n",
        "    l = ee.Image(img.get('L')).select('RADIANCE').rename('L')\n",
        "    return img.addBands(l)\n",
        "\n",
        "\n",
        "# Create maxDifference-filter to match TOA and SR products\n",
        "maxDiffFilter = ee.Filter.maxDifference(\n",
        "    difference=2 * 24 * 60 * 60 * 1000,\n",
        "    leftField= 'system:time_start',\n",
        "    rightField= 'system:time_start'\n",
        ")\n",
        "\n",
        "# Define join: Water vapor\n",
        "join_wv = ee.Join.saveBest(\n",
        "    matchKey = 'WV',\n",
        "    measureKey = 'timeDiff'\n",
        ")\n",
        "\n",
        "# Define join: Radiance\n",
        "join_l = ee.Join.saveBest(\n",
        "    matchKey = 'L',\n",
        "    measureKey = 'timeDiff'\n",
        ")"
      ],
      "metadata": {
        "id": "MEFe1pUs-hjc"
      },
      "execution_count": 13,
      "outputs": []
    },
    {
      "cell_type": "markdown",
      "source": [
        "6.4 Spectral Indices"
      ],
      "metadata": {
        "id": "lEyVmLfM-rWc"
      }
    },
    {
      "cell_type": "code",
      "source": [
        "# NDVI\n",
        "def fun_ndvi(img):\n",
        "    ndvi = img.normalizedDifference(['NIR', 'R']).rename('NDVI')\n",
        "    return img.addBands(ndvi)\n",
        "\n",
        "#MNDWI (Xu, 2006)\n",
        "def fun_mndwi(img):\n",
        "    mndwi = img.normalizedDifference(['G', 'SWIR1']).rename('MNDWI')\n",
        "    return img.addBands(mndwi)\n",
        "\n",
        "# IBI (Xu, 2008)\n",
        "def fun_ibi(img):\n",
        "    const = ee.Number(2)\n",
        "    \n",
        "    ibi = img.expression(\n",
        "        '(((const * swir1) / (swir1 + nir))-((nir / (nir + red)) + (green / (green + swir1))))   / (((const * swir1) / (swir1 + nir))+((nir / (nir + red)) + (green / (green + swir1))))',           \n",
        "        {\n",
        "            'swir1': img.select('SWIR1'),\n",
        "            'nir': img.select('NIR'),\n",
        "            'red': img.select('R'),\n",
        "            'green': img.select('G'),\n",
        "            'const': const\n",
        "        }).rename('IBI')\n",
        "    return img.addBands(ibi)      "
      ],
      "metadata": {
        "id": "MNDMVxkR-eQh"
      },
      "execution_count": 14,
      "outputs": []
    },
    {
      "cell_type": "markdown",
      "source": [
        "6.5 Parameter calculation"
      ],
      "metadata": {
        "id": "ruGrOjyf_-LD"
      }
    },
    {
      "cell_type": "code",
      "source": [
        "# Tasseled Cap Transformation (brightness, greenness, wetness) based on Christ (1985)\n",
        "def fun_tcg(img):\n",
        "    tcg = img.expression(\n",
        "                         'B*(-0.1603) + G*(-0.2819) + R*(-0.4934) + NIR*0.7940 + SWIR1*(-0.0002) + SWIR2*(-0.1446)',\n",
        "                         {\n",
        "                         'B': img.select(['B']),\n",
        "                         'G': img.select(['G']),\n",
        "                         'R': img.select(['R']),\n",
        "                         'NIR': img.select(['NIR']),\n",
        "                         'SWIR1': img.select(['SWIR1']),\n",
        "                         'SWIR2': img.select(['SWIR2'])\n",
        "                         }).rename('TCG')\n",
        "    return img.addBands(tcg)\n",
        "\n",
        "\n",
        "def fun_tcb(img):\n",
        "    tcb = img.expression(\n",
        "                         'B*0.2043 + G*0.4158 + R*0.5524 + NIR*0.5741 + SWIR1*0.3124 + SWIR2*0.2303',\n",
        "                         {\n",
        "                         'B': img.select(['B']),\n",
        "                         'G': img.select(['G']),\n",
        "                         'R': img.select(['R']),\n",
        "                         'NIR': img.select(['NIR']),\n",
        "                         'SWIR1': img.select(['SWIR1']),\n",
        "                         'SWIR2': img.select(['SWIR2'])\n",
        "                         }).rename('TCB')\n",
        "    return img.addBands(tcb)\n",
        "\n",
        "\n",
        "def fun_tcw(img):\n",
        "       tcw = img.expression(\n",
        "              'B*0.0315 + G*0.2021 + R*0.3102 + NIR*0.1594 + SWIR1*(-0.6806) + SWIR2*(-0.6109)',\n",
        "              {\n",
        "                     'B': img.select(['B']),\n",
        "                     'G': img.select(['G']),\n",
        "                     'R': img.select(['R']),\n",
        "                     'NIR': img.select(['NIR']),\n",
        "                     'SWIR1': img.select(['SWIR1']),\n",
        "                     'SWIR2': img.select(['SWIR2'])\n",
        "              }).rename('TCW')\n",
        "       return img.addBands(tcw)\n",
        "\n",
        "\n",
        "# Fraction Vegetation Cover (FVC)\n",
        "def fun_fvc(img):\n",
        "    fvc = img.expression(\n",
        "        '((NDVI-NDVI_s)/(NDVI_v-NDVI_s))**2',\n",
        "        {\n",
        "            'NDVI': img.select('NDVI'),\n",
        "            'NDVI_s': ndvi_s,\n",
        "            'NDVI_v': ndvi_v\n",
        "        }\n",
        "    ).rename('FVC')\n",
        "    return img.addBands(fvc)\n",
        "\n",
        "\n",
        "# Scale Emissivity (Epsilon) between NDVI_s and NDVI_v\n",
        "def fun_epsilon_scale(img):\n",
        "    epsilon_scale = img.expression(\n",
        "        'epsilon_s+(epsilon_v-epsilon_s)*FVC',\n",
        "        {\n",
        "            'FVC': img.select('FVC'),\n",
        "            'epsilon_s': epsilon_s,\n",
        "            'epsilon_v': epsilon_v\n",
        "        }\n",
        "    ).rename('EPSILON_SCALE')\n",
        "    return img.addBands(epsilon_scale)\n",
        "\n",
        "\n",
        "# Emissivity (Epsilon)\n",
        "def fun_epsilon(img):\n",
        "    pseudo = img.select(['NDVI']).set('system:time_start', img.get('system:time_start'))\n",
        "    epsilon = pseudo.where(img.expression('NDVI > NDVI_v',\n",
        "                                          {'NDVI': img.select('NDVI'),\n",
        "                                           'NDVI_v': ndvi_v}), epsilon_v)\n",
        "    epsilon = epsilon.where(img.expression('NDVI < NDVI_s && NDVI >= 0',\n",
        "                                           {'NDVI': img.select('NDVI'),\n",
        "                                            'NDVI_s': ndvi_s}), epsilon_s)\n",
        "    epsilon = epsilon.where(img.expression('NDVI < 0',\n",
        "                                           {'NDVI': img.select('NDVI')}), epsilon_w)\n",
        "    epsilon = epsilon.where(img.expression('NDVI <= NDVI_v && NDVI >= NDVI_s',\n",
        "                                           {'NDVI': img.select('NDVI'),\n",
        "                                            'NDVI_v': ndvi_v,\n",
        "                                            'NDVI_s': ndvi_s}), img.select('EPSILON_SCALE')).rename('EPSILON')\n",
        "    return img.addBands(epsilon)\n",
        "\n",
        "\n",
        "# Function to scale WV content product\n",
        "def fun_wv_scale(img):\n",
        "    wv_scaled = ee.Image(img.get('WV')).multiply(0.1).rename('WV_SCALED')\n",
        "    wv_scaled = wv_scaled.resample('bilinear')\n",
        "    return img.addBands(wv_scaled)"
      ],
      "metadata": {
        "id": "Y7O4l-T7ACuZ"
      },
      "execution_count": 15,
      "outputs": []
    },
    {
      "cell_type": "markdown",
      "source": [
        "6.6 Land surface temperature calculation"
      ],
      "metadata": {
        "id": "F6Tk-x-RAMZ1"
      }
    },
    {
      "cell_type": "code",
      "source": [
        "# Atmospheric Functions\n",
        "def fun_af1(cs):\n",
        "    def wrap(img):\n",
        "        af1 = img.expression(\n",
        "            '('+str(cs[0])+'*(WV**2))+('+str(cs[1])+'*WV)+('+str(cs[2])+')',\n",
        "            {\n",
        "                'WV': img.select('WV_SCALED')\n",
        "            }\n",
        "        ).rename('AF1')\n",
        "        return img.addBands(af1)\n",
        "    return wrap\n",
        "\n",
        "\n",
        "def fun_af2(cs):\n",
        "    def wrap(img):\n",
        "        af2 = img.expression(\n",
        "            '('+str(cs[3])+'*(WV**2))+('+str(cs[4])+'*WV)+('+str(cs[5])+')',\n",
        "            {\n",
        "                'WV': img.select('WV_SCALED')\n",
        "            }\n",
        "        ).rename('AF2')\n",
        "        return img.addBands(af2)\n",
        "    return wrap\n",
        "\n",
        "\n",
        "def fun_af3(cs):\n",
        "    def wrap(img):\n",
        "        af3 = img.expression(\n",
        "            '('+str(cs[6])+'*(WV**2))+('+str(cs[7])+'*WV)+('+str(cs[8])+')',\n",
        "            {\n",
        "                'WV': img.select('WV_SCALED')\n",
        "            }\n",
        "        ).rename('AF3')\n",
        "        return img.addBands(af3)\n",
        "    return wrap\n",
        "\n",
        "\n",
        "# Gamma Functions\n",
        "def fun_gamma_l8(img):\n",
        "    gamma = img.expression('(BT**2)/(1324*L)',\n",
        "                           {'BT': img.select('TIR'),\n",
        "                            'L': img.select('L')\n",
        "                            }).rename('GAMMA')\n",
        "    return img.addBands(gamma)\n",
        "\n",
        "\n",
        "def fun_gamma_l7(img):\n",
        "    gamma = img.expression('(BT**2)/(1277*L)',\n",
        "                           {'BT': img.select('TIR'),\n",
        "                            'L': img.select('L')\n",
        "                            }).rename('GAMMA')\n",
        "    return img.addBands(gamma)\n",
        "\n",
        "\n",
        "def fun_gamma_l5(img):\n",
        "    gamma = img.expression('(BT**2)/(1256*L)',\n",
        "                           {'BT': img.select('TIR'),\n",
        "                            'L': img.select('L')\n",
        "                            }).rename('GAMMA')\n",
        "    return img.addBands(gamma)\n",
        "\n",
        "\n",
        "# Delta Functions\n",
        "def fun_delta_l8(img):\n",
        "    delta = img.expression('BT-((BT**2)/1324)',\n",
        "                           {'BT': img.select('TIR')\n",
        "                            }).rename('DELTA')\n",
        "    return img.addBands(delta)\n",
        "\n",
        "\n",
        "def fun_delta_l7(img):\n",
        "    delta = img.expression('BT-((BT**2)/1277)',\n",
        "                           {'BT': img.select('TIR')\n",
        "                            }).rename('DELTA')\n",
        "    return img.addBands(delta)\n",
        "\n",
        "\n",
        "def fun_delta_l5(img):\n",
        "    delta = img.expression('BT-((BT**2)/1256)',\n",
        "                           {'BT': img.select('TIR')\n",
        "                            }).rename('DELTA')\n",
        "    return img.addBands(delta)\n",
        "\n",
        "\n",
        "# Land Surface Temperature\n",
        "def fun_lst(img):\n",
        "    lst = img.expression(\n",
        "        '(GAMMA*(((1/EPSILON)*(AF1*L+AF2))+AF3)+DELTA)-273.15',\n",
        "        {\n",
        "            'GAMMA': img.select('GAMMA'),\n",
        "            'DELTA': img.select('DELTA'),\n",
        "            'EPSILON': img.select('EPSILON'),\n",
        "            'AF1': img.select('AF1'),\n",
        "            'AF2': img.select('AF2'),\n",
        "            'AF3': img.select('AF3'),\n",
        "            'L': img.select('L')\n",
        "        }\n",
        "    ).rename('LST')\n",
        "    return img.addBands(lst)\n",
        "\n",
        "\n",
        "def fun_mask_lst(img):\n",
        "    mask = img.select('LST').gt(t_threshold)\n",
        "    return img.updateMask(mask)"
      ],
      "metadata": {
        "id": "R-gHiZMMARvw"
      },
      "execution_count": 16,
      "outputs": []
    },
    {
      "cell_type": "markdown",
      "source": [
        "6.7 Descriptive statistics extraction and date variables"
      ],
      "metadata": {
        "id": "T41vwUtDKyeh"
      }
    },
    {
      "cell_type": "code",
      "source": [
        "#function for extracting image info\n",
        "def fctn_get_image_stats(img):\n",
        "  img_lst = img.select('LST')\n",
        "  img_ndvi = img.select('NDVI')\n",
        "  img_mndwi = img.select('MNDWI')\n",
        "  img_ibi = img.select('IBI')\n",
        "  # img_cloud_cover = img.get('CLOUD_COVER').getInfo()\n",
        "  \n",
        "\n",
        "  img_lst_mean_value = img_lst.reduceRegion(ee.Reducer.mean(), roi, 30,  crs = 'EPSG:32648', bestEffort = True, maxPixels = 1e9).getInfo()['LST']\n",
        "  img_ndvi_mean_value = img_ndvi.reduceRegion(ee.Reducer.mean(), roi, 30,  crs = 'EPSG:32648', bestEffort = True, maxPixels = 1e9).getInfo()['NDVI']\n",
        "  img_mndwi_mean_value = img_mndwi.reduceRegion(ee.Reducer.mean(), roi, 30,  crs = 'EPSG:32648', bestEffort = True, maxPixels = 1e9).getInfo()['MNDWI']\n",
        "  img_ibi_mean_value = img_ibi.reduceRegion(ee.Reducer.mean(), roi, 30,  crs = 'EPSG:32648', bestEffort = True, maxPixels = 1e9).getInfo()['IBI']\n",
        "\n",
        "\n",
        "  img_lst_max_value = img_lst.reduceRegion(ee.Reducer.max(), roi, 30,  crs = 'EPSG:32648', bestEffort = True, maxPixels = 1e9).getInfo()['LST']\n",
        "  img_ndvi_max_value = img_ndvi.reduceRegion(ee.Reducer.max(), roi, 30,  crs = 'EPSG:32648', bestEffort = True, maxPixels = 1e9).getInfo()['NDVI']\n",
        "  img_mndwi_max_value = img_mndwi.reduceRegion(ee.Reducer.max(), roi, 30,  crs = 'EPSG:32648', bestEffort = True, maxPixels = 1e9).getInfo()['MNDWI']\n",
        "  img_ibi_max_value = img_ibi.reduceRegion(ee.Reducer.max(), roi, 30,  crs = 'EPSG:32648', bestEffort = True, maxPixels = 1e9).getInfo()['IBI']\n",
        "\n",
        "\n",
        "  img_lst_min_value = img_lst.reduceRegion(ee.Reducer.min(), roi, 30,  crs = 'EPSG:32648', bestEffort = True, maxPixels = 1e9).getInfo()['LST']\n",
        "  img_ndvi_min_value = img_ndvi.reduceRegion(ee.Reducer.min(), roi, 30,  crs = 'EPSG:32648', bestEffort = True, maxPixels = 1e9).getInfo()['NDVI']\n",
        "  img_mndwi_min_value = img_mndwi.reduceRegion(ee.Reducer.min(), roi, 30,  crs = 'EPSG:32648', bestEffort = True, maxPixels = 1e9).getInfo()['MNDWI']\n",
        "  img_ibi_min_value = img_ibi.reduceRegion(ee.Reducer.min(), roi, 30,  crs = 'EPSG:32648', bestEffort = True, maxPixels = 1e9).getInfo()['IBI']\n",
        "\n",
        "  \n",
        "  img_date = img.date().getInfo()['value']\n",
        "  \n",
        "  img_sytemindex = img.get('system:index').getInfo()\n",
        "\n",
        "  img_cloud_cover = img.get('L')\n",
        "  img_cloud_cover = ee.Image(img_cloud_cover)\n",
        "  img_cloud_cover = img_cloud_cover.get('CLOUD_COVER').getInfo()\n",
        "  # print(img_cloud_cover)\n",
        "\n",
        "  img_all_info = {\n",
        "      'system:index': img_sytemindex,\n",
        "      'date': img_date,\n",
        "      'mean_lst' : img_lst_mean_value,\n",
        "      'mean_ndvi' : img_ndvi_mean_value,\n",
        "      'mean_mndwi' : img_mndwi_mean_value,\n",
        "      'mean_ibi' : img_ibi_mean_value,\n",
        "\n",
        "      'min_lst' : img_lst_min_value,\n",
        "      'min_ndvi' : img_ndvi_min_value,\n",
        "      'min_mndwi' : img_mndwi_min_value,\n",
        "      'min_ibi' : img_ibi_min_value,\n",
        "      \n",
        "      'max_lst' : img_lst_max_value,\n",
        "      'max_ndvi' : img_ndvi_max_value,\n",
        "      'max_mndwi' : img_mndwi_max_value,\n",
        "      'max_ibi' : img_ibi_max_value,\n",
        "      'cloud_cover': img_cloud_cover\n",
        "      \n",
        "  }\n",
        "\n",
        "  return img_all_info\n",
        "\n",
        "# Function to add date variables to DataFrame.\n",
        "def add_date_info(df):\n",
        "  df['Timestamp'] = pd.to_datetime(df['Millis'], unit='ms')\n",
        "  df['Year'] = pd.DatetimeIndex(df['Timestamp']).year\n",
        "  df['Month'] = pd.DatetimeIndex(df['Timestamp']).month\n",
        "  df['Day'] = pd.DatetimeIndex(df['Timestamp']).day\n",
        "  df['DOY'] = pd.DatetimeIndex(df['Timestamp']).dayofyear\n",
        "  return df"
      ],
      "metadata": {
        "id": "aRcxejweKy3j"
      },
      "execution_count": 17,
      "outputs": []
    },
    {
      "cell_type": "markdown",
      "source": [
        "**7. Calling the image collections**"
      ],
      "metadata": {
        "id": "-wLYna4MhDWq"
      }
    },
    {
      "cell_type": "code",
      "source": [
        "# Landsat 5 TM\n",
        "imgCol_L5_TOA = ee.ImageCollection('LANDSAT/LT05/C01/T1')\\\n",
        "    .filterBounds(roi)\\\n",
        "    .filter(ee.Filter.calendarRange(year_start,year_end,'year'))\\\n",
        "    .filter(ee.Filter.calendarRange(month_start,month_end,'month'))\\\n",
        "    .filter(ee.Filter.lt('CLOUD_COVER', max_cloud_cover))\\\n",
        "    .select(['B6'])\n",
        "\n",
        "imgCol_L5_SR = ee.ImageCollection('LANDSAT/LT05/C01/T1_SR')\\\n",
        "    .filterBounds(roi)\\\n",
        "    .filter(ee.Filter.calendarRange(year_start,year_end,'year'))\\\n",
        "    .filter(ee.Filter.calendarRange(month_start,month_end,'month'))\\\n",
        "    .filter(ee.Filter.lt('CLOUD_COVER', max_cloud_cover))\\\n",
        "    .map(fun_mask_ls_sr)\n",
        "\n",
        "imgCol_L5_SR = imgCol_L5_SR.map(fun_bands_l57)\n",
        "\n",
        "# Landsat 7 ETM+\n",
        "imgCol_L7_TOA = ee.ImageCollection('LANDSAT/LE07/C01/T1')\\\n",
        "    .filterBounds(roi)\\\n",
        "    .filter(ee.Filter.calendarRange(year_start,year_end,'year'))\\\n",
        "    .filter(ee.Filter.calendarRange(month_start,month_end,'month'))\\\n",
        "    .filter(ee.Filter.lt('CLOUD_COVER', max_cloud_cover))\\\n",
        "    .select(['B6_VCID_2'])\n",
        "\n",
        "imgCol_L7_SR = ee.ImageCollection('LANDSAT/LE07/C01/T1_SR')\\\n",
        "    .filterBounds(roi)\\\n",
        "    .filter(ee.Filter.calendarRange(year_start,year_end,'year'))\\\n",
        "    .filter(ee.Filter.calendarRange(month_start,month_end,'month'))\\\n",
        "    .filter(ee.Filter.lt('CLOUD_COVER', max_cloud_cover))\\\n",
        "    .map(fun_mask_ls_sr)\n",
        "\n",
        "imgCol_L7_SR = imgCol_L7_SR.map(fun_bands_l57)\n",
        "\n",
        "# Landsat 8 OLI-TIRS\n",
        "imgCol_L8_TOA = ee.ImageCollection('LANDSAT/LC08/C01/T1')\\\n",
        "    .filterBounds(roi)\\\n",
        "    .filter(ee.Filter.calendarRange(year_start,year_end,'year'))\\\n",
        "    .filter(ee.Filter.calendarRange(month_start,month_end,'month'))\\\n",
        "    .filter(ee.Filter.lt('CLOUD_COVER', max_cloud_cover))\\\n",
        "    .select(['B10'])\n",
        "\n",
        "imgCol_L8_SR = ee.ImageCollection('LANDSAT/LC08/C01/T1_SR')\\\n",
        "    .filterBounds(roi)\\\n",
        "    .filter(ee.Filter.calendarRange(year_start,year_end,'year'))\\\n",
        "    .filter(ee.Filter.calendarRange(month_start,month_end,'month'))\\\n",
        "    .filter(ee.Filter.lt('CLOUD_COVER', max_cloud_cover))\\\n",
        "    .map(fun_mask_ls_sr)\n",
        "\n",
        "imgCol_L8_SR = imgCol_L8_SR.map(fun_bands_l8)\n",
        "\n",
        "# NCEP/NCAR Water Vapor Product\n",
        "imgCol_WV = ee.ImageCollection('NCEP_RE/surface_wv')\\\n",
        "    .filterBounds(roi)\\\n",
        "    .filter(ee.Filter.calendarRange(year_start,year_end,'year'))\\\n",
        "    .filter(ee.Filter.calendarRange(month_start,month_end,'month'))\n",
        "\n",
        "print(\"Total LS 5 collection TOA: \",imgCol_L5_TOA.size().getInfo())\n",
        "print(\"Total LS 5 collection SR: \",imgCol_L5_SR.size().getInfo())\n",
        "print(\"Total LS 7 collection TOA: \",imgCol_L7_TOA.size().getInfo())\n",
        "print(\"Total LS 7 collection SR: \",imgCol_L7_SR.size().getInfo())\n",
        "print(\"Total LS 8 collection TOA: \",imgCol_L8_TOA.size().getInfo())\n",
        "print(\"Total LS 8 collection SR: \",imgCol_L8_SR.size().getInfo())    "
      ],
      "metadata": {
        "id": "ioPqKy0fYr2i"
      },
      "execution_count": null,
      "outputs": []
    },
    {
      "cell_type": "markdown",
      "source": [
        "**8. Calculation of LST and other indices**"
      ],
      "metadata": {
        "id": "UGh_NbGR0-9D"
      }
    },
    {
      "cell_type": "code",
      "source": [
        "# TOA (Radiance) and SR\n",
        "imgCol_L5_TOA = imgCol_L5_TOA.map(fun_radcal)\n",
        "imgCol_L7_TOA = imgCol_L7_TOA.map(fun_radcal)\n",
        "imgCol_L8_TOA = imgCol_L8_TOA.map(fun_radcal)\n",
        "\n",
        "imgCol_L5_SR = ee.ImageCollection(join_l.apply(imgCol_L5_SR, imgCol_L5_TOA, maxDiffFilter))\n",
        "imgCol_L7_SR = ee.ImageCollection(join_l.apply(imgCol_L7_SR, imgCol_L7_TOA, maxDiffFilter))\n",
        "imgCol_L8_SR = ee.ImageCollection(join_l.apply(imgCol_L8_SR, imgCol_L8_TOA, maxDiffFilter))\n",
        "\n",
        "imgCol_L5_SR = imgCol_L5_SR.map(fun_l_addband)\n",
        "imgCol_L7_SR = imgCol_L7_SR.map(fun_l_addband)\n",
        "imgCol_L8_SR = imgCol_L8_SR.map(fun_l_addband)\n",
        "\n",
        "# Water Vapor\n",
        "imgCol_L5_SR = ee.ImageCollection(join_wv.apply(imgCol_L5_SR, imgCol_WV, maxDiffFilter))\n",
        "imgCol_L7_SR = ee.ImageCollection(join_wv.apply(imgCol_L7_SR, imgCol_WV, maxDiffFilter))\n",
        "imgCol_L8_SR = ee.ImageCollection(join_wv.apply(imgCol_L8_SR, imgCol_WV, maxDiffFilter))\n",
        "\n",
        "imgCol_L5_SR = imgCol_L5_SR.map(fun_wv_scale)\n",
        "imgCol_L7_SR = imgCol_L7_SR.map(fun_wv_scale)\n",
        "imgCol_L8_SR = imgCol_L8_SR.map(fun_wv_scale)\n",
        "\n",
        "# Atmospheric Functions\n",
        "imgCol_L5_SR = imgCol_L5_SR.map(fun_af1(cs_l5))\n",
        "imgCol_L5_SR = imgCol_L5_SR.map(fun_af2(cs_l5))\n",
        "imgCol_L5_SR = imgCol_L5_SR.map(fun_af3(cs_l5))\n",
        "\n",
        "imgCol_L7_SR = imgCol_L7_SR.map(fun_af1(cs_l7))\n",
        "imgCol_L7_SR = imgCol_L7_SR.map(fun_af2(cs_l7))\n",
        "imgCol_L7_SR = imgCol_L7_SR.map(fun_af3(cs_l7))\n",
        "\n",
        "imgCol_L8_SR = imgCol_L8_SR.map(fun_af1(cs_l8))\n",
        "imgCol_L8_SR = imgCol_L8_SR.map(fun_af2(cs_l8))\n",
        "imgCol_L8_SR = imgCol_L8_SR.map(fun_af3(cs_l8))\n",
        "\n",
        "# Delta and Gamma Functions\n",
        "imgCol_L5_SR = imgCol_L5_SR.map(fun_delta_l5)\n",
        "imgCol_L7_SR = imgCol_L7_SR.map(fun_delta_l7)\n",
        "imgCol_L8_SR = imgCol_L8_SR.map(fun_delta_l8)\n",
        "\n",
        "imgCol_L5_SR = imgCol_L5_SR.map(fun_gamma_l5)\n",
        "imgCol_L7_SR = imgCol_L7_SR.map(fun_gamma_l7)\n",
        "imgCol_L8_SR = imgCol_L8_SR.map(fun_gamma_l8)\n",
        "\n",
        "# Merge Collections\n",
        "imgCol_merge = imgCol_L8_SR.merge(imgCol_L7_SR).merge(imgCol_L5_SR)\n",
        "imgCol_merge = imgCol_merge.sort('system:time_start')\n",
        "\n",
        "# Clipping to ROI\n",
        "imgCol_merge = imgCol_merge.map(fun_clip)\n",
        "\n",
        "# Parameters and Indices\n",
        "imgCol_merge = imgCol_merge.map(fun_ndvi)\n",
        "imgCol_merge = imgCol_merge.map(fun_ibi)\n",
        "imgCol_merge = imgCol_merge.map(fun_mndwi)\n",
        "imgCol_merge = imgCol_merge.map(fun_tcg)\n",
        "imgCol_merge = imgCol_merge.map(fun_tcb)\n",
        "imgCol_merge = imgCol_merge.map(fun_tcw)\n",
        "\n",
        "imgCol_merge = imgCol_merge.map(fun_fvc)\n",
        "imgCol_merge = imgCol_merge.map(fun_epsilon_scale)\n",
        "imgCol_merge = imgCol_merge.map(fun_epsilon)\n",
        "\n",
        "\n",
        "# LST\n",
        "imgCol_merge = imgCol_merge.map(fun_lst)\n",
        "imgCol_merge = imgCol_merge.map(fun_mask_lst)\n",
        "\n"
      ],
      "metadata": {
        "id": "dyE6xbLQhPVE"
      },
      "execution_count": 19,
      "outputs": []
    },
    {
      "cell_type": "code",
      "source": [
        "imgCol_merge"
      ],
      "metadata": {
        "id": "DV_YupgLDTHa"
      },
      "execution_count": null,
      "outputs": []
    },
    {
      "cell_type": "code",
      "source": [
        "print(\"Total image collection merged and clipped: \",imgCol_merge.size().getInfo())"
      ],
      "metadata": {
        "colab": {
          "base_uri": "https://localhost:8080/"
        },
        "id": "xFXA6XbgDokD",
        "outputId": "04d37b64-ee39-486a-8ca6-ebcd95915339"
      },
      "execution_count": 21,
      "outputs": [
        {
          "output_type": "stream",
          "name": "stdout",
          "text": [
            "Total image collection merged and clipped:  462\n"
          ]
        }
      ]
    },
    {
      "cell_type": "code",
      "source": [
        "#testing LST output\n",
        "img1 = imgCol_merge.sort('system:time_start', False).first()\n",
        "img1 = img1.select('LST')\n",
        "lst_max = ee.Number(img1.reduceRegion(**{\n",
        "  \"reducer\": ee.Reducer.max(),\n",
        "  \"scale\": 30,\n",
        "  \"maxPixels\": 10**9\n",
        "}).values().get(0));\n",
        "print( 'max value of lst',lst_max.getInfo())\n",
        "\n",
        "lst_min = ee.Number(img1.reduceRegion(**{\n",
        "  \"reducer\": ee.Reducer.min(),\n",
        "  \"scale\": 30,\n",
        "  \"maxPixels\": 10**9\n",
        "}).values().get(0));\n",
        "print( 'min value of lst',lst_min.getInfo())"
      ],
      "metadata": {
        "id": "v9URly_zKFgf"
      },
      "execution_count": null,
      "outputs": []
    },
    {
      "cell_type": "markdown",
      "source": [
        "**9. Descriptive statistics extraction**"
      ],
      "metadata": {
        "id": "08QOyIl-Lz71"
      }
    },
    {
      "cell_type": "code",
      "source": [
        "# final merged image collection\n",
        "imgCol_merge\n",
        "\n",
        "# converting image collection to list\n",
        "doi = imgCol_merge\n",
        "doiList = doi.toList(doi.size())\n",
        "doiList_size = doiList.size().getInfo()\n",
        "print('Total Images in Data of Interest (doi) dataset: ',doiList_size)\n",
        "\n",
        "# creating the dataframe\n",
        "df = pd.DataFrame(columns=['SystemIndex', 'Millis', 'MeanIBI','MaxIBI','MinIBI', 'MeanNDVI','MaxNDVI','MinNDVI', 'MeanMNDWI', 'MaxMNDWI', 'MinMNDWI', 'MeanLST', 'MaxLST', 'MinLST', 'Cloud'])\n",
        "# iteration\n",
        "for i in tqdm(range(doiList_size)):\n",
        "  image = ee.Image(doiList.get(i))\n",
        "  image_info = fctn_get_image_stats(image)\n",
        "  \n",
        "  df = df.append({'SystemIndex': image_info['system:index'], \n",
        "                  'Millis':  image_info['date'], \n",
        "                  'MeanIBI': image_info['mean_ibi'], \n",
        "                  'MaxIBI': image_info['max_ibi'], \n",
        "                  'MinIBI': image_info['min_ibi'],\n",
        "                  'MeanNDVI': image_info['mean_ndvi'], \n",
        "                  'MaxNDVI': image_info['max_ndvi'], \n",
        "                  'MinNDVI': image_info['min_ndvi'],\n",
        "                  'MeanMNDWI': image_info['mean_mndwi'], \n",
        "                  'MaxMNDWI': image_info['max_mndwi'], \n",
        "                  'MinMNDWI': image_info['min_mndwi'],\n",
        "                  'MeanLST': image_info['mean_lst'], \n",
        "                  'MaxLST': image_info['max_lst'], \n",
        "                  'MinLST': image_info['min_lst'],\n",
        "                  'Cloud' : image_info['cloud_cover']\n",
        "                  }, ignore_index=True)"
      ],
      "metadata": {
        "id": "uKSU1K-ML7y9"
      },
      "execution_count": null,
      "outputs": []
    },
    {
      "cell_type": "code",
      "source": [
        "df"
      ],
      "metadata": {
        "id": "iU819EF_Mbe9"
      },
      "execution_count": null,
      "outputs": []
    },
    {
      "cell_type": "code",
      "source": [
        "#adding the date variables\n",
        "df2 = add_date_info(df)\n",
        "\n",
        "# dataframe with date variable\n",
        "df2"
      ],
      "metadata": {
        "id": "oxughMZIMmft"
      },
      "execution_count": null,
      "outputs": []
    },
    {
      "cell_type": "code",
      "source": [
        "# export the dataframe to a CSV file\n",
        "df2.to_csv('dfall.csv', index=False)"
      ],
      "metadata": {
        "id": "oeNTnWjzjiOn"
      },
      "execution_count": null,
      "outputs": []
    },
    {
      "cell_type": "markdown",
      "source": [
        "**The produced dataframe named 'df' is analysed in further statistical analysis**"
      ],
      "metadata": {
        "id": "YnhRjWIzgj2Z"
      }
    }
  ]
}